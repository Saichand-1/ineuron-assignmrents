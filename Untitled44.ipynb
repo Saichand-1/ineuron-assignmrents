{
 "cells": [
  {
   "cell_type": "code",
   "execution_count": 32,
   "id": "6397da71",
   "metadata": {},
   "outputs": [
    {
     "data": {
      "text/plain": [
       "matrix([[ 4,  6,  8],\n",
       "        [ 8, 37,  8],\n",
       "        [ 8, 79,  8]])"
      ]
     },
     "execution_count": 32,
     "metadata": {},
     "output_type": "execute_result"
    }
   ],
   "source": [
    "\"\"\"Write a Python Program to Add Two Matrices?\"\"\"\n",
    "l=[1,2,3,4,5,6,6,77,6]\n",
    "v=[3,4,5,4,32,2,2,2,2]\n",
    "import numpy\n",
    "l=numpy.mat(l)\n",
    "v=numpy.mat(v)\n",
    "l=l.reshape(3,3)\n",
    "v=v.reshape(3,-1)\n",
    "b=l+v\n",
    "b"
   ]
  },
  {
   "cell_type": "code",
   "execution_count": 19,
   "id": "bf6c3061",
   "metadata": {},
   "outputs": [
    {
     "data": {
      "text/plain": [
       "matrix([[11, 14],\n",
       "        [25, 32]])"
      ]
     },
     "execution_count": 19,
     "metadata": {},
     "output_type": "execute_result"
    }
   ],
   "source": [
    "\"\"\"Write a Python Program to Multiply Two Matrices?\"\"\"\n",
    "l=[[1,2],[3,4]]\n",
    "v=[[3,4],[4,5]]\n",
    "import numpy\n",
    "l=numpy.mat(l)\n",
    "v=numpy.mat(v)\n",
    "b=l@v\n",
    "b\n"
   ]
  },
  {
   "cell_type": "code",
   "execution_count": 34,
   "id": "c5bee4cb",
   "metadata": {},
   "outputs": [
    {
     "name": "stdout",
     "output_type": "stream",
     "text": [
      "before transpose\n",
      "[[1 2]\n",
      " [3 4]\n",
      " [4 5]]\n",
      "after transpose\n",
      "[[1 3 4]\n",
      " [2 4 5]]\n"
     ]
    }
   ],
   "source": [
    "\"\"\"Write a Python Program to Transpose a Matrix?\"\"\"\n",
    "l=[1,2,3,4,4,5]\n",
    "import numpy\n",
    "l=numpy.asarray(l)\n",
    "l=l.reshape(3,2)\n",
    "print(\"before transpose\")\n",
    "print(l)\n",
    "v=l.transpose()\n",
    "print(\"after transpose\")\n",
    "print(v)"
   ]
  },
  {
   "cell_type": "code",
   "execution_count": 45,
   "id": "245d2e02",
   "metadata": {},
   "outputs": [
    {
     "name": "stdout",
     "output_type": "stream",
     "text": [
      "are everyone hello how iam rajesh you \n"
     ]
    }
   ],
   "source": [
    "\"\"\"Write a Python Program to Sort Words in Alphabetic Order?\"\"\"\n",
    "def sort(a):\n",
    "    l=a.split()\n",
    "    l.sort()\n",
    "    x=\"\"\n",
    "    for i in l:\n",
    "        x=x+str(i)+\" \"\n",
    "    return x\n",
    "v=\"hello everyone how are you iam rajesh\"\n",
    "c=sort(v)\n",
    "print(c)\n"
   ]
  },
  {
   "cell_type": "code",
   "execution_count": 54,
   "id": "4d574516",
   "metadata": {},
   "outputs": [
    {
     "name": "stdout",
     "output_type": "stream",
     "text": [
      "iam rajeshhow are you\n"
     ]
    }
   ],
   "source": [
    "\"\"\"Write a Python Program to Remove Punctuation From a String?\"\"\"\n",
    "def punctuation(a):\n",
    "    z=v.translate(str.maketrans('','', string.punctuation))\n",
    "    return z\n",
    "v=\"iam rajesh,how are you!\"\n",
    "z=punctuation(v)\n",
    "print(z)"
   ]
  },
  {
   "cell_type": "code",
   "execution_count": null,
   "id": "7d7e03e7",
   "metadata": {},
   "outputs": [],
   "source": [
    "\n"
   ]
  },
  {
   "cell_type": "code",
   "execution_count": null,
   "id": "d948a0f6",
   "metadata": {},
   "outputs": [],
   "source": []
  }
 ],
 "metadata": {
  "kernelspec": {
   "display_name": "Python 3 (ipykernel)",
   "language": "python",
   "name": "python3"
  },
  "language_info": {
   "codemirror_mode": {
    "name": "ipython",
    "version": 3
   },
   "file_extension": ".py",
   "mimetype": "text/x-python",
   "name": "python",
   "nbconvert_exporter": "python",
   "pygments_lexer": "ipython3",
   "version": "3.9.12"
  }
 },
 "nbformat": 4,
 "nbformat_minor": 5
}
