{
 "cells": [
  {
   "cell_type": "code",
   "execution_count": 3,
   "id": "a1fd43cd",
   "metadata": {},
   "outputs": [
    {
     "name": "stdout",
     "output_type": "stream",
     "text": [
      "5\n",
      "factorial of 5 is 120\n"
     ]
    }
   ],
   "source": [
    "#1.Write a Python Program to Find the Factorial of a Number?\n",
    "a=int(input(\"Enter the number\"))\n",
    "a=a+1\n",
    "b=1\n",
    "for i in range(a):\n",
    "    if i>0:\n",
    "        b=b*i\n",
    "print(f\"factorial of {a-1} is {b}\")        \n",
    "        "
   ]
  },
  {
   "cell_type": "code",
   "execution_count": 5,
   "id": "d3bc83b9",
   "metadata": {},
   "outputs": [
    {
     "name": "stdout",
     "output_type": "stream",
     "text": [
      "Enter the number2\n",
      "2 * 1 = 2\n",
      "2 * 2 = 4\n",
      "2 * 3 = 6\n",
      "2 * 4 = 8\n",
      "2 * 5 = 10\n",
      "2 * 6 = 12\n",
      "2 * 7 = 14\n",
      "2 * 8 = 16\n",
      "2 * 9 = 18\n",
      "2 * 10 = 20\n",
      "2 * 11 = 22\n",
      "2 * 12 = 24\n"
     ]
    }
   ],
   "source": [
    "#2.Write a Python Program to Display the multiplication Table?\n",
    "a=int(input(\"Enter the number\"))\n",
    "b=13\n",
    "for i in range(b):\n",
    "    if i>0:\n",
    "        print(a,\"*\",i,\"=\",a*i)"
   ]
  },
  {
   "cell_type": "code",
   "execution_count": 13,
   "id": "66cbe6ac",
   "metadata": {},
   "outputs": [
    {
     "name": "stdout",
     "output_type": "stream",
     "text": [
      "how many numbers u want in the sequence7\n",
      "0  \n",
      "1  \n",
      "1  \n",
      "2  \n",
      "3  \n",
      "5  \n",
      "8  \n"
     ]
    }
   ],
   "source": [
    "#3.Write a Python Program to Print the Fibonacci sequence?\n",
    "a=int(input(\"how many numbers u want in the sequence\"))\n",
    "def fibonacci_(a):\n",
    "    if a<0:\n",
    "        return 0\n",
    "    elif a==0:\n",
    "        return 0\n",
    "    elif a==1:\n",
    "        return 1\n",
    "    else:\n",
    "        return fibonacci_(a-1)+fibonacci_(a-2)\n",
    "for i in range(a):\n",
    "        print(fibonacci_(i),\" \")\n",
    "        "
   ]
  },
  {
   "cell_type": "code",
   "execution_count": 16,
   "id": "edaab689",
   "metadata": {},
   "outputs": [
    {
     "name": "stdout",
     "output_type": "stream",
     "text": [
      "2\n",
      "2  is not aarmstrong number\n"
     ]
    }
   ],
   "source": [
    "#4.Write a Python Program to Check Armstrong Number?\n",
    "a=int(input())\n",
    "b=a\n",
    "sum_=0\n",
    "while b>0:\n",
    "    r=b%10\n",
    "    sum_=sum_+(r**3)\n",
    "    b=b//10\n",
    "if sum_==a:\n",
    "    print(a,\" is a armstrong number\")\n",
    "else:\n",
    "    print(a,\" is not aarmstrong number\")\n",
    "    "
   ]
  },
  {
   "cell_type": "code",
   "execution_count": 18,
   "id": "8b675c9b",
   "metadata": {},
   "outputs": [
    {
     "name": "stdout",
     "output_type": "stream",
     "text": [
      "enter the range153\n",
      "1  is a armstrong number\n",
      "153  is a armstrong number\n"
     ]
    }
   ],
   "source": [
    "#5.Write a Python Program to Find Armstrong Number in an Interval?\n",
    "a=int(input(\"enter the range\"))\n",
    "for i in range(a+1):\n",
    "    if i>0:\n",
    "        b=i\n",
    "        sum_=0\n",
    "        while b>0:\n",
    "            r=b%10\n",
    "            sum_=sum_+(r**3)\n",
    "            b=b//10\n",
    "        if sum_==i:\n",
    "            print(i,\" is a armstrong number\")\n",
    "        \n",
    "        "
   ]
  },
  {
   "cell_type": "code",
   "execution_count": 21,
   "id": "1a4d96c2",
   "metadata": {},
   "outputs": [
    {
     "name": "stdout",
     "output_type": "stream",
     "text": [
      "Enter the number5\n"
     ]
    },
    {
     "data": {
      "text/plain": [
       "15"
      ]
     },
     "execution_count": 21,
     "metadata": {},
     "output_type": "execute_result"
    }
   ],
   "source": [
    "#6.Write a Python Program to Find the Sum of Natural Numbers?\n",
    "def sum_(a):\n",
    "    b=0\n",
    "    for i in range(a+1):\n",
    "        b=b+i\n",
    "    return b\n",
    "a=int(input(\"Enter the number\"))\n",
    "sum_(a)\n",
    "        \n",
    "    "
   ]
  },
  {
   "cell_type": "code",
   "execution_count": null,
   "id": "27f0ee96",
   "metadata": {},
   "outputs": [],
   "source": []
  }
 ],
 "metadata": {
  "kernelspec": {
   "display_name": "Python 3 (ipykernel)",
   "language": "python",
   "name": "python3"
  },
  "language_info": {
   "codemirror_mode": {
    "name": "ipython",
    "version": 3
   },
   "file_extension": ".py",
   "mimetype": "text/x-python",
   "name": "python",
   "nbconvert_exporter": "python",
   "pygments_lexer": "ipython3",
   "version": "3.9.12"
  }
 },
 "nbformat": 4,
 "nbformat_minor": 5
}
