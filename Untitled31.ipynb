{
 "cells": [
  {
   "cell_type": "code",
   "execution_count": 2,
   "id": "ad356bae",
   "metadata": {},
   "outputs": [
    {
     "name": "stdout",
     "output_type": "stream",
     "text": [
      "\"in... in... incredible?\"\n"
     ]
    }
   ],
   "source": [
    "\"\"\"Question1. Write a function that stutters a word as if someone is struggling to read it. The\n",
    "first two letters are repeated twice with an ellipsis ... and space after each, and then the\n",
    "word is pronounced with a question mark ?.\"\"\"\n",
    "def stutter(a):\n",
    "    s=\"\"\n",
    "    if(len(a)>2):\n",
    "    for i in range(2):\n",
    "        s=s+a[i]\n",
    "    print('\"'+s+\"...\",s+\"...\",a+\"?\"+'\"')\n",
    "    else:\n",
    "        print(\"invalid input\")\n",
    "w=stutter(\"incredible\")  "
   ]
  },
  {
   "cell_type": "code",
   "execution_count": 12,
   "id": "ad5b45af",
   "metadata": {},
   "outputs": [
    {
     "name": "stdout",
     "output_type": "stream",
     "text": [
      "1in degrees is: 57.3\n"
     ]
    }
   ],
   "source": [
    "\"\"\"Question 2.Create a function that takes an angle in radians and returns the corresponding\n",
    "angle in degrees rounded to one decimal place.\"\"\"\n",
    "import math\n",
    "def radians(a):\n",
    "    s=math.pi\n",
    "    q=round((180/s)*a,1)\n",
    "    return q\n",
    "s=int(input(\"enter the radians\"))\n",
    "q=radians(s)\n",
    "print(s+\"in degrees is:\",q)"
   ]
  },
  {
   "cell_type": "code",
   "execution_count": 15,
   "id": "d5931121",
   "metadata": {},
   "outputs": [
    {
     "name": "stdout",
     "output_type": "stream",
     "text": [
      "enter the number14\n",
      "True\n"
     ]
    }
   ],
   "source": [
    "\"\"\"Question 3. In this challenge, establish if a given integer num is a Curzon number. If 1 plus\n",
    "2 elevated to num is exactly divisible by 1 plus 2 multiplied by num, then num is a Curzon\n",
    "number.\n",
    "Given a non-negative integer num, implement a function that returns True if num is a Curzon\n",
    "number, or False otherwise.\"\"\"\n",
    "def curzon(a):\n",
    "    s=2**a+1\n",
    "    q=2*a+1\n",
    "    if s%q==0:\n",
    "        return True\n",
    "    else:\n",
    "        return False\n",
    "q=int(input(\"enter the number\"))\n",
    "s=curzon(q)\n",
    "print(s)\n"
   ]
  },
  {
   "cell_type": "code",
   "execution_count": 18,
   "id": "b230b71a",
   "metadata": {},
   "outputs": [
    {
     "name": "stdout",
     "output_type": "stream",
     "text": [
      "enter the number3\n",
      "23.382685902179844\n"
     ]
    }
   ],
   "source": [
    "\"\"\"4.Question 4.Given the side length x find the area of a hexagon.\"\"\"\n",
    "import math\n",
    "def area(t):\n",
    "    s=math.sqrt(3)\n",
    "    q=(3*s*t*t)/2\n",
    "    return q\n",
    "w=int(input(\"enter the number\"))\n",
    "r=area(w)\n",
    "print(r)"
   ]
  },
  {
   "cell_type": "code",
   "execution_count": 33,
   "id": "a8a509c2",
   "metadata": {},
   "outputs": [
    {
     "name": "stdout",
     "output_type": "stream",
     "text": [
      "enter the number10\n",
      "1010\n"
     ]
    }
   ],
   "source": [
    "\"\"\"Question 5. Create a function that returns a base-2 (binary) representation of a base-10\n",
    "(decimal) string number. To convert is simple: ((2) means base-2 and (10) means base-10)\n",
    "010101001(2) = 1 + 8 + 32 + 128.\n",
    "Going from right to left, the value of the most right bit is 1, now from that every bit to the left\n",
    "will be x2 the value, value of an 8 bit binary numbers are (256, 128, 64, 32, 16, 8, 4, 2, 1).\"\"\"\n",
    "def binary(a):\n",
    "    q=a\n",
    "    w=0\n",
    "    t=0\n",
    "    while q!=0:\n",
    "        r=q&1\n",
    "        w=w+r*(10**t)\n",
    "        q=q>>1\n",
    "        t=t+1\n",
    "    w=str(w)\n",
    "    return w\n",
    "q=int(input(\"enter the number\"))\n",
    "f=binary(q)\n",
    "print(f)"
   ]
  },
  {
   "cell_type": "code",
   "execution_count": null,
   "id": "e8ffd086",
   "metadata": {},
   "outputs": [],
   "source": []
  }
 ],
 "metadata": {
  "kernelspec": {
   "display_name": "Python 3 (ipykernel)",
   "language": "python",
   "name": "python3"
  },
  "language_info": {
   "codemirror_mode": {
    "name": "ipython",
    "version": 3
   },
   "file_extension": ".py",
   "mimetype": "text/x-python",
   "name": "python",
   "nbconvert_exporter": "python",
   "pygments_lexer": "ipython3",
   "version": "3.9.12"
  }
 },
 "nbformat": 4,
 "nbformat_minor": 5
}
