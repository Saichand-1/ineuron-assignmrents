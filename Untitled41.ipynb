{
 "cells": [
  {
   "cell_type": "code",
   "execution_count": 3,
   "id": "c8db3a36",
   "metadata": {},
   "outputs": [
    {
     "name": "stdout",
     "output_type": "stream",
     "text": [
      "True\n"
     ]
    }
   ],
   "source": [
    "\"\"\"Question 1\n",
    "Create a function that takes a number as an argument and returns True or False depending\n",
    "on whether the number is symmetrical or not. A number is symmetrical when it is the same as\n",
    "its reverse.\"\"\"\n",
    "def check(c):\n",
    "    c=str(c)\n",
    "    a=0\n",
    "    b=len(c)-1\n",
    "    while a<=b:\n",
    "        if(c[a]!=c[b]):\n",
    "            return False\n",
    "        a=a+1\n",
    "        b=b-1\n",
    "    return True\n",
    "v=check(7227)\n",
    "print(v)            "
   ]
  },
  {
   "cell_type": "code",
   "execution_count": 6,
   "id": "8a44b2f6",
   "metadata": {},
   "outputs": [
    {
     "name": "stdout",
     "output_type": "stream",
     "text": [
      "6\n"
     ]
    }
   ],
   "source": [
    "\"\"\"Question 2\n",
    "Given a string of numbers separated by a comma and space, return the product of the\n",
    "numbers.\"\"\"\n",
    "def product(a):\n",
    "    lis=list(a)\n",
    "    d=1\n",
    "    for i in lis:\n",
    "        if i==' ' or i==',':\n",
    "            continue\n",
    "        d=d*int(i)    \n",
    "    return d                      \n",
    "b=product(\"2, 3\")\n",
    "print(b)"
   ]
  },
  {
   "cell_type": "code",
   "execution_count": 10,
   "id": "b93733ad",
   "metadata": {},
   "outputs": [
    {
     "name": "stdout",
     "output_type": "stream",
     "text": [
      "811181\n"
     ]
    }
   ],
   "source": [
    "\"\"\"Question 3\n",
    "Create a function that squares every digit of a number.\"\"\"\n",
    "def do(a):\n",
    "    f=str(a)\n",
    "    lis=list(f)\n",
    "    s=\"\"\n",
    "    for i in lis:\n",
    "        v=int(i)\n",
    "        g=v**2\n",
    "        s=s+str(g)\n",
    "    v=int(s)\n",
    "    return v\n",
    "y=do(9119)\n",
    "print(y)"
   ]
  },
  {
   "cell_type": "code",
   "execution_count": 12,
   "id": "a2ed890c",
   "metadata": {},
   "outputs": [
    {
     "name": "stdout",
     "output_type": "stream",
     "text": [
      "[1, 3, 5]\n"
     ]
    }
   ],
   "source": [
    "\"\"\"Question 4\n",
    "Create a function that sorts a list and removes all duplicate items from it.\"\"\"\n",
    "def modify(a):\n",
    "    v=set(a)\n",
    "    f=list(v)\n",
    "    return f\n",
    "u=modify([1,3,3,5,5])\n",
    "print(u)"
   ]
  },
  {
   "cell_type": "code",
   "execution_count": 14,
   "id": "fe8db971",
   "metadata": {},
   "outputs": [
    {
     "name": "stdout",
     "output_type": "stream",
     "text": [
      "3\n"
     ]
    }
   ],
   "source": [
    "\"\"\"Question 5\n",
    "Create a function that returns the mean of all digits.\"\"\"\n",
    "def mean(a):\n",
    "    t=str(a)\n",
    "    f=list(t)\n",
    "    sum_=0\n",
    "    for i in f:\n",
    "        sum_=sum_+int(i)\n",
    "    t=len(f)\n",
    "    q=sum_//t\n",
    "    return q\n",
    "o=mean(12345)\n",
    "print(o)"
   ]
  },
  {
   "cell_type": "code",
   "execution_count": null,
   "id": "8876cb1d",
   "metadata": {},
   "outputs": [],
   "source": []
  }
 ],
 "metadata": {
  "kernelspec": {
   "display_name": "Python 3 (ipykernel)",
   "language": "python",
   "name": "python3"
  },
  "language_info": {
   "codemirror_mode": {
    "name": "ipython",
    "version": 3
   },
   "file_extension": ".py",
   "mimetype": "text/x-python",
   "name": "python",
   "nbconvert_exporter": "python",
   "pygments_lexer": "ipython3",
   "version": "3.9.12"
  }
 },
 "nbformat": 4,
 "nbformat_minor": 5
}
