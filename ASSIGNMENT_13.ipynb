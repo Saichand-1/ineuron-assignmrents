{
 "cells": [
  {
   "cell_type": "code",
   "execution_count": 42,
   "id": "b3f5f59d",
   "metadata": {},
   "outputs": [
    {
     "name": "stdout",
     "output_type": "stream",
     "text": [
      "Enter the input100,150,180\n",
      "18,22,24,"
     ]
    }
   ],
   "source": [
    "#1 \n",
    "import math\n",
    "e=input(\"Enter the input\")\n",
    "e=e.split(sep=',')\n",
    "for i in range(len(e)):\n",
    "    e[i]=int(e[i])\n",
    "for i in e:\n",
    "    d=math.sqrt((2*50*i)/30)\n",
    "    d=int(d)\n",
    "    print(d,end=\",\")\n",
    "    "
   ]
  },
  {
   "cell_type": "code",
   "execution_count": 37,
   "id": "68bf7d33",
   "metadata": {},
   "outputs": [
    {
     "name": "stdout",
     "output_type": "stream",
     "text": [
      "enter x3\n",
      "enter y5\n",
      "[[0, 0, 0, 0, 0], [0, 1, 2, 3, 4], [0, 2, 4, 6, 8]]\n"
     ]
    }
   ],
   "source": [
    "#2\n",
    "x=int(input(\"enter x\"))\n",
    "y=int(input(\"enter y\"))\n",
    "list1=[]\n",
    "for i in range(x):\n",
    "    list2=[]\n",
    "    for j in range(y):\n",
    "        list2.append(i*j)\n",
    "    list1.append(list2)\n",
    "print(list1)    "
   ]
  },
  {
   "cell_type": "code",
   "execution_count": 8,
   "id": "6ead9e18",
   "metadata": {},
   "outputs": [
    {
     "name": "stdout",
     "output_type": "stream",
     "text": [
      "enter the stringwithout,hello,bag,world\n",
      "bag,hello,without,world"
     ]
    }
   ],
   "source": [
    "#3\n",
    "r=input(\"enter the string\")\n",
    "d=r.split(sep=\",\")\n",
    "d.sort()\n",
    "print(d[0],end=\"\")\n",
    "d.pop(0)\n",
    "for i in d:\n",
    "    print(f\",{i}\",end=\"\")"
   ]
  },
  {
   "cell_type": "code",
   "execution_count": 11,
   "id": "06bbb99a",
   "metadata": {},
   "outputs": [
    {
     "name": "stdout",
     "output_type": "stream",
     "text": [
      "enter the stringhello world and practice makes perfect and hello world again\n",
      "again and hello makes perfect practice world "
     ]
    }
   ],
   "source": [
    "#4\n",
    "r=input(\"enter the string\")\n",
    "d=r.split(sep=\" \")\n",
    "d.sort()\n",
    "for i in range(len(d)):\n",
    "    if d[i-1]!=d[i]:\n",
    "        print(f\"{d[i]}\",end=\" \")\n",
    "        \n",
    "        "
   ]
  },
  {
   "cell_type": "code",
   "execution_count": 31,
   "id": "b9e01a8b",
   "metadata": {},
   "outputs": [
    {
     "name": "stdout",
     "output_type": "stream",
     "text": [
      "enterhello world! 123\n",
      "LETTERS: 10\n",
      "DIGITS: 3\n"
     ]
    }
   ],
   "source": [
    "#5\n",
    "r=input(\"enter\")\n",
    "b=r.split()\n",
    "d=[]\n",
    "for i in b:\n",
    "    d=d+list(i) \n",
    "c=0\n",
    "e=0\n",
    "for i in d:\n",
    "    if ord(i)>=65 and ord(i)<=90:\n",
    "        c=c+1\n",
    "    elif ord(i)>=96 and ord(i)<=122:\n",
    "        c=c+1\n",
    "    elif ord(i)>=48 and ord(i)<=57:\n",
    "        e=e+1\n",
    "print(\"LETTERS:\", c)\n",
    "print(\"DIGITS:\", e)"
   ]
  },
  {
   "cell_type": "code",
   "execution_count": 41,
   "id": "4b68989f",
   "metadata": {},
   "outputs": [
    {
     "name": "stdout",
     "output_type": "stream",
     "text": [
      "enterABd1234@1,a F1#,2w3E*,2We3345\n",
      "ABd1234@1\n"
     ]
    }
   ],
   "source": [
    "#6\n",
    "r=input(\"enter\")\n",
    "d=r.split(sep=\",\")\n",
    "for i in d:\n",
    "    c=0\n",
    "    a=0\n",
    "    b=0\n",
    "    e=0\n",
    "    f=0\n",
    "    g=0\n",
    "    h=0\n",
    "    for j in i:\n",
    "        if a==0 and (ord(j)>=65 and ord(j)<=90):\n",
    "            a=1\n",
    "            c=c+1\n",
    "        elif b==0 and (ord(j)>=96 and ord(j)<=122):\n",
    "            b=1\n",
    "            c=c+1\n",
    "        elif e==0 and (ord(j)>=48 and ord(j)<=57):\n",
    "            e=1\n",
    "            c=c+1\n",
    "        elif f==0 and(j=='$' or j=='@' or j=='#'):\n",
    "            f=1\n",
    "            c=c+1\n",
    "        elif g==0 and len(i)>=6:\n",
    "            g=1\n",
    "            c=c+1\n",
    "        elif h==0 and len(i)<=12:\n",
    "            h=1\n",
    "            c=c+1\n",
    "    if(c==6):\n",
    "         print(i)              \n",
    "                       "
   ]
  },
  {
   "cell_type": "code",
   "execution_count": null,
   "id": "93351137",
   "metadata": {},
   "outputs": [],
   "source": []
  },
  {
   "cell_type": "code",
   "execution_count": null,
   "id": "ee4c56e1",
   "metadata": {},
   "outputs": [],
   "source": []
  }
 ],
 "metadata": {
  "kernelspec": {
   "display_name": "Python 3 (ipykernel)",
   "language": "python",
   "name": "python3"
  },
  "language_info": {
   "codemirror_mode": {
    "name": "ipython",
    "version": 3
   },
   "file_extension": ".py",
   "mimetype": "text/x-python",
   "name": "python",
   "nbconvert_exporter": "python",
   "pygments_lexer": "ipython3",
   "version": "3.9.12"
  }
 },
 "nbformat": 4,
 "nbformat_minor": 5
}
