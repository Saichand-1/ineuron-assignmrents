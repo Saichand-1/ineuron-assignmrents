{
 "cells": [
  {
   "cell_type": "code",
   "execution_count": 3,
   "id": "fd19d9c7",
   "metadata": {},
   "outputs": [
    {
     "name": "stdout",
     "output_type": "stream",
     "text": [
      "[3, 6, 9]\n"
     ]
    }
   ],
   "source": [
    "\"\"\"Question1\n",
    "Create a function that takes three parameters where:\n",
    " x is the start of the range (inclusive).\n",
    " y is the end of the range (inclusive).\n",
    " n is the divisor to be checked against.\n",
    "Return an ordered list with numbers in the range that are divisible by the third parameter n.\n",
    "Return an empty list if there are no numbers that are divisible by n.\"\"\"\n",
    "def rangelist(x,y,n):\n",
    "    l=[i for i in range(x,y+1) if i%n==0]\n",
    "    return l\n",
    "p=rangelist(1,10,3)\n",
    "print(p)"
   ]
  },
  {
   "cell_type": "code",
   "execution_count": 7,
   "id": "d969e449",
   "metadata": {},
   "outputs": [
    {
     "name": "stdout",
     "output_type": "stream",
     "text": [
      "False\n"
     ]
    }
   ],
   "source": [
    "\"\"\"Question2\n",
    "Create a function that takes in two lists and returns True if the second list follows the first list\n",
    "by one element, and False otherwise. In other words, determine if the second list is the first\n",
    "list shifted to the right by 1.\"\"\"\n",
    "def checking(a,b):\n",
    "    if len(a)!=len(b):\n",
    "        return False\n",
    "    for i in range(len(a)):\n",
    "        if i+1==len(a):\n",
    "            break\n",
    "        if a[i]!=b[i+1]:\n",
    "            return False\n",
    "    return True\n",
    "l=[1,2,3,4,5]\n",
    "b=[5,5,1,2,3]\n",
    "a=checking(l,b)\n",
    "print(a)"
   ]
  },
  {
   "cell_type": "code",
   "execution_count": 10,
   "id": "e3e88073",
   "metadata": {},
   "outputs": [
    {
     "name": "stdout",
     "output_type": "stream",
     "text": [
      "AMS\n"
     ]
    }
   ],
   "source": [
    "\"\"\"Question3\n",
    "A group of friends have decided to start a secret society. The name will be the first letter of\n",
    "each of their names, sorted in alphabetical order.\n",
    "Create a function that takes in a list of names and returns the name of the secret society.\"\"\"\n",
    "def naming(a):\n",
    "    s=\"\"\n",
    "    for i in a:\n",
    "        s=s+i[0]\n",
    "    c=sorted(s)\n",
    "    f=\"\"\n",
    "    for i in c:\n",
    "        f=f+str(i)\n",
    "    return f\n",
    "p=[\"Adam\",\"Sarah\",\"Malcolm\"]\n",
    "v=naming(p)\n",
    "print(v)"
   ]
  },
  {
   "cell_type": "code",
   "execution_count": 20,
   "id": "64c1473d",
   "metadata": {},
   "outputs": [
    {
     "name": "stdout",
     "output_type": "stream",
     "text": [
      "False\n"
     ]
    }
   ],
   "source": [
    "\"\"\"Question4\n",
    "An isogram is a word that has no duplicate letters. Create a function that takes a string and\n",
    "returns either True or False depending on whether or not it's an \"isogram\".\"\"\"\n",
    "def isogram(a):\n",
    "    b=a.lower()\n",
    "    p=len(b)\n",
    "    t=set(b)\n",
    "    g=len(t)\n",
    "    if p==g:\n",
    "        return True\n",
    "    else:\n",
    "        return False\n",
    "t=isogram(\"PaSsword\")\n",
    "print(t)"
   ]
  },
  {
   "cell_type": "code",
   "execution_count": 24,
   "id": "29528344",
   "metadata": {},
   "outputs": [
    {
     "name": "stdout",
     "output_type": "stream",
     "text": [
      "True\n"
     ]
    }
   ],
   "source": [
    "\"\"\"Question5\n",
    "Create a function that takes a string and returns True or False, depending on whether the\n",
    "characters are in order or not.\"\"\"\n",
    "def sortcheck(a):\n",
    "    u=list(a)\n",
    "    b=sorted(u)\n",
    "    if u==b:\n",
    "        return True\n",
    "    else:\n",
    "        return False\n",
    "v=sortcheck(\"xyzz\")\n",
    "print(v)"
   ]
  },
  {
   "cell_type": "code",
   "execution_count": null,
   "id": "3464c428",
   "metadata": {},
   "outputs": [],
   "source": []
  }
 ],
 "metadata": {
  "kernelspec": {
   "display_name": "Python 3 (ipykernel)",
   "language": "python",
   "name": "python3"
  },
  "language_info": {
   "codemirror_mode": {
    "name": "ipython",
    "version": 3
   },
   "file_extension": ".py",
   "mimetype": "text/x-python",
   "name": "python",
   "nbconvert_exporter": "python",
   "pygments_lexer": "ipython3",
   "version": "3.9.12"
  }
 },
 "nbformat": 4,
 "nbformat_minor": 5
}
