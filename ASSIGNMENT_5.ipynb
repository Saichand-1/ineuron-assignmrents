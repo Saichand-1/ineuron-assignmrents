{
 "cells": [
  {
   "cell_type": "code",
   "execution_count": 28,
   "id": "2cd2d861",
   "metadata": {},
   "outputs": [
    {
     "name": "stdout",
     "output_type": "stream",
     "text": [
      "enter 0 if u want enter the number else enter 10\n",
      "enter the integer1\n",
      "enter 0 if u want enter the number else enter 10\n",
      "enter the integer2\n",
      "enter 0 if u want enter the number else enter 10\n",
      "enter the integer3\n",
      "enter 0 if u want enter the number else enter 10\n",
      "enter the integer4\n",
      "enter 0 if u want enter the number else enter 10\n",
      "enter the integer5\n",
      "enter 0 if u want enter the number else enter 11\n",
      "lcm of the entered numbers is: 60\n"
     ]
    }
   ],
   "source": [
    "#1 Write a Python Program to Find LCM?\n",
    "import math\n",
    "def LCM_(*args):\n",
    "    return math.lcm(*args) \n",
    "t=0\n",
    "l=[]\n",
    "d=1\n",
    "while t==0:\n",
    "    t=int(input(\"enter 0 if u want enter the number else enter 1\"))\n",
    "    if t==0:\n",
    "        l.append(int(input(\"enter the integer\")))\n",
    "    else:\n",
    "        break\n",
    "while not l==[]:\n",
    "    c=LCM_(d,l.pop())\n",
    "    d=c\n",
    "print(\"lcm of the entered numbers is:\",c)\n",
    "        "
   ]
  },
  {
   "cell_type": "code",
   "execution_count": 31,
   "id": "fcac34b2",
   "metadata": {},
   "outputs": [
    {
     "name": "stdout",
     "output_type": "stream",
     "text": [
      "enter 0 if u want enter the number else enter 10\n",
      "enter the integer1\n",
      "enter 0 if u want enter the number else enter 10\n",
      "enter the integer2\n",
      "enter 0 if u want enter the number else enter 10\n",
      "enter the integer3\n",
      "enter 0 if u want enter the number else enter 10\n",
      "enter the integer4\n",
      "enter 0 if u want enter the number else enter 10\n",
      "enter the integer5\n",
      "enter 0 if u want enter the number else enter 11\n",
      "GCD of the entered numbers is: 1\n"
     ]
    }
   ],
   "source": [
    "#2.Write a Python Program to Find HCF?\n",
    "import math\n",
    "def GCD_(*args):\n",
    "    return math.gcd(*args) \n",
    "t=0\n",
    "l=[]\n",
    "d=1\n",
    "while t==0:\n",
    "    t=int(input(\"enter 0 if u want enter the number else enter 1\"))\n",
    "    if t==0:\n",
    "        l.append(int(input(\"enter the integer\")))\n",
    "    else:\n",
    "        break\n",
    "while not l==[]:\n",
    "    c=GCD_(d,l.pop())\n",
    "    d=c\n",
    "print(\"GCD of the entered numbers is:\",c)"
   ]
  },
  {
   "cell_type": "code",
   "execution_count": 52,
   "id": "8504a4d6",
   "metadata": {},
   "outputs": [
    {
     "name": "stdout",
     "output_type": "stream",
     "text": [
      "4\n",
      "binary conversion of given number: 100\n",
      "hexadecimal conversion of given number: 4\n",
      "octal conversion of given number: 4\n"
     ]
    }
   ],
   "source": [
    "#3.Write a Python Program to Convert Decimal to Binary, Octal and Hexadecimal?\n",
    "a=int(input())\n",
    "b=bin(a)\n",
    "d=hex(a)\n",
    "f=oct(a)\n",
    "t=0\n",
    "c=\"\"\n",
    "for i in b:\n",
    "    if t==1:\n",
    "        c=c+i\n",
    "    if i=='b':\n",
    "        t=1\n",
    "print(\"binary conversion of given number:\",c)          \n",
    "c=\"\"\n",
    "t=0\n",
    "for i in d:\n",
    "    if t==1:\n",
    "        c=c+i\n",
    "    if i=='x':\n",
    "        t=1\n",
    "print(\"hexadecimal conversion of given number:\",c)    \n",
    "c=\"\"\n",
    "t=0\n",
    "for i in f:\n",
    "    if t==1:\n",
    "        c=c+i\n",
    "    if i=='o':\n",
    "        t=1\n",
    "print(\"octal conversion of given number:\",c)    "
   ]
  },
  {
   "cell_type": "code",
   "execution_count": 56,
   "id": "599a23db",
   "metadata": {},
   "outputs": [
    {
     "name": "stdout",
     "output_type": "stream",
     "text": [
      "q\n",
      "ascii value of given character is: 113\n"
     ]
    }
   ],
   "source": [
    "#4.Write a Python Program To Find ASCII value of a character?\n",
    "c=input()\n",
    "d=ord(c)\n",
    "print(\"ascii value of given character is:\",d)\n"
   ]
  },
  {
   "cell_type": "code",
   "execution_count": 67,
   "id": "bf5af84d",
   "metadata": {
    "scrolled": true
   },
   "outputs": [
    {
     "name": "stdout",
     "output_type": "stream",
     "text": [
      "enter the value1\n",
      "if u want to add numbers enter '+'\n",
      "               if u want to subtract number enter '-'\n",
      "               if u want to multiply number enter '*'\n",
      "               if u want to divide number enter '/'\n",
      "               if u want to exit enter '!'+\n",
      "enter number:2\n",
      "if u want to add numbers enter '+'\n",
      "               if u want to subtract number enter '-'\n",
      "               if u want to multiply number enter '*'\n",
      "               if u want to divide number enter '/'\n",
      "               if u want to exit enter '!'+\n",
      "enter number:3\n",
      "if u want to add numbers enter '+'\n",
      "               if u want to subtract number enter '-'\n",
      "               if u want to multiply number enter '*'\n",
      "               if u want to divide number enter '/'\n",
      "               if u want to exit enter '!'+4\n",
      "if u want to add numbers enter '+'\n",
      "               if u want to subtract number enter '-'\n",
      "               if u want to multiply number enter '*'\n",
      "               if u want to divide number enter '/'\n",
      "               if u want to exit enter '!'+\n",
      "enter number:5\n",
      "if u want to add numbers enter '+'\n",
      "               if u want to subtract number enter '-'\n",
      "               if u want to multiply number enter '*'\n",
      "               if u want to divide number enter '/'\n",
      "               if u want to exit enter '!'+\n",
      "enter number:5\n",
      "if u want to add numbers enter '+'\n",
      "               if u want to subtract number enter '-'\n",
      "               if u want to multiply number enter '*'\n",
      "               if u want to divide number enter '/'\n",
      "               if u want to exit enter '!'!\n",
      "the value of the above operation is: 16\n"
     ]
    }
   ],
   "source": [
    "#5.Write a Python Program to Make a Simple Calculator with 4 basic mathematical operations?\n",
    "t=0\n",
    "s=int(input(\"enter the value\"))\n",
    "while 1:\n",
    "    t=input(\"\"\"if u want to add numbers enter '+'\n",
    "               if u want to subtract number enter '-'\n",
    "               if u want to multiply number enter '*'\n",
    "               if u want to divide number enter '/'\n",
    "               if u want to exit enter '!'\"\"\")\n",
    "    if t=='+':\n",
    "        d=int(input(\"enter number:\"))\n",
    "        s=s+d\n",
    "    elif t=='-':  \n",
    "        d=int(input(\"enter number:\"))\n",
    "        s=s-d\n",
    "    elif t=='*':\n",
    "        d=int(input(\"enter number:\"))   \n",
    "        s=s*d\n",
    "    elif t=='/':\n",
    "        d=int(input(\"enter number:\"))\n",
    "        s=s/d\n",
    "    elif t=='!':\n",
    "        break\n",
    "print(\"the value of the above operation is:\",s)    "
   ]
  },
  {
   "cell_type": "code",
   "execution_count": null,
   "id": "b4b7d5d3",
   "metadata": {},
   "outputs": [],
   "source": []
  }
 ],
 "metadata": {
  "kernelspec": {
   "display_name": "Python 3 (ipykernel)",
   "language": "python",
   "name": "python3"
  },
  "language_info": {
   "codemirror_mode": {
    "name": "ipython",
    "version": 3
   },
   "file_extension": ".py",
   "mimetype": "text/x-python",
   "name": "python",
   "nbconvert_exporter": "python",
   "pygments_lexer": "ipython3",
   "version": "3.9.12"
  }
 },
 "nbformat": 4,
 "nbformat_minor": 5
}
