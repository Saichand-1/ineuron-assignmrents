{
 "cells": [
  {
   "cell_type": "code",
   "execution_count": 2,
   "id": "fe7a1053",
   "metadata": {},
   "outputs": [
    {
     "name": "stdout",
     "output_type": "stream",
     "text": [
      "[1, 2]\n"
     ]
    }
   ],
   "source": [
    "\"\"\"1.Create a function that takes a list of non-negative integers and strings and return a new list\n",
    "without the strings.\"\"\"\n",
    "def filter_list(a):\n",
    "    b=[]\n",
    "    for i in a:\n",
    "        if type(i)==int and i>=0:\n",
    "            b.append(i)\n",
    "    return b\n",
    "q=[1, 2,\"a\", \"b\"]\n",
    "print(filter_list(q))"
   ]
  },
  {
   "cell_type": "code",
   "execution_count": 7,
   "id": "97321522",
   "metadata": {},
   "outputs": [
    {
     "name": "stdout",
     "output_type": "stream",
     "text": [
      "\"DLROw OLLEh\""
     ]
    }
   ],
   "source": [
    "\"\"\"2.The \"Reverser\" takes a string as input and returns that string in reverse order, with the\n",
    "opposite case.\"\"\"\n",
    "def Reverser(a):\n",
    "    v=\"\"\n",
    "    q=len(a)\n",
    "    for i in range(q-1,-1,-1):\n",
    "        t=a[i]\n",
    "        if ord(a[i])>=97 and ord(a[i])<=122:\n",
    "             t=t.upper()\n",
    "        elif ord(a[i])>=65 and ord(a[i])<=90:\n",
    "             t=t.lower()\n",
    "        v=v+t\n",
    "    return v        \n",
    "io=\"Hello World\"\n",
    "UI=Reverser(io)\n",
    "print('\"',end=\"\")\n",
    "print(UI,end=\"\")\n",
    "print('\"',end=\"\")\n"
   ]
  },
  {
   "cell_type": "code",
   "execution_count": 8,
   "id": "91babe8b",
   "metadata": {},
   "outputs": [
    {
     "name": "stdout",
     "output_type": "stream",
     "text": [
      "first: 1\n",
      "middle: [2, 3, 4, 5]\n",
      "last: 6\n"
     ]
    }
   ],
   "source": [
    "\"\"\"3.With Python 3, you can assign variables from lists in a much more succinct way. Create\n",
    "variables first, middle and last from the given list using destructuring assignment\n",
    "(check the Resources tab for some examples), where:\"\"\"\n",
    "l=[1,2,3,4,5,6]\n",
    "first,*middle,last=l\n",
    "print(\"first:\",first)\n",
    "print(\"middle:\",middle)\n",
    "print(\"last:\",last)"
   ]
  },
  {
   "cell_type": "code",
   "execution_count": 6,
   "id": "509b9025",
   "metadata": {},
   "outputs": [
    {
     "name": "stdout",
     "output_type": "stream",
     "text": [
      "120\n"
     ]
    }
   ],
   "source": [
    "\"\"\"4.Write a function that calculates the factorial of a number recursively.\"\"\"\n",
    "def factorial(N):\n",
    "    if N==1:\n",
    "        return 1\n",
    "    else:\n",
    "        return N*factorial(N-1)\n",
    "q=factorial(5)\n",
    "print(q)"
   ]
  },
  {
   "cell_type": "code",
   "execution_count": 10,
   "id": "793f485f",
   "metadata": {},
   "outputs": [
    {
     "name": "stdout",
     "output_type": "stream",
     "text": [
      "[3, 2, 4, 4, 1, 1]\n"
     ]
    }
   ],
   "source": [
    "\"\"\"Question 5\n",
    "Write a function that moves all elements of one type to the end of the list.\"\"\"\n",
    "def move_to_end(a,b):\n",
    "    count=0\n",
    "    f=[]\n",
    "    for i in a:\n",
    "        if i==b:\n",
    "            count=count+1\n",
    "        else:\n",
    "            f.append(i)\n",
    "    for i in range(count):\n",
    "        f.append(b)\n",
    "    a=f\n",
    "    return a\n",
    "a=[1,3,2,4,4,1]\n",
    "b=1\n",
    "w=move_to_end(a,b)\n",
    "print(w)"
   ]
  },
  {
   "cell_type": "code",
   "execution_count": null,
   "id": "c94e6d89",
   "metadata": {},
   "outputs": [],
   "source": []
  }
 ],
 "metadata": {
  "kernelspec": {
   "display_name": "Python 3 (ipykernel)",
   "language": "python",
   "name": "python3"
  },
  "language_info": {
   "codemirror_mode": {
    "name": "ipython",
    "version": 3
   },
   "file_extension": ".py",
   "mimetype": "text/x-python",
   "name": "python",
   "nbconvert_exporter": "python",
   "pygments_lexer": "ipython3",
   "version": "3.9.12"
  }
 },
 "nbformat": 4,
 "nbformat_minor": 5
}
