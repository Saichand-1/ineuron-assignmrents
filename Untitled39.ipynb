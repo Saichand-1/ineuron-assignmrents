{
 "cells": [
  {
   "cell_type": "code",
   "execution_count": 5,
   "id": "7845326e",
   "metadata": {},
   "outputs": [
    {
     "name": "stdout",
     "output_type": "stream",
     "text": [
      "[6, 7, 8, 9, 1]\n"
     ]
    }
   ],
   "source": [
    "\"\"\"Question1\n",
    "Write a function that takes a list and a number as arguments. Add the number to the end of\n",
    "the list, then remove the first element of the list. The function should then return the updated\n",
    "list.\"\"\"\n",
    "def listpp(a,b):\n",
    "    a.append(b)\n",
    "    a.pop(0)\n",
    "    return a\n",
    "a=[5,6,7,8,9]\n",
    "print(listpp(a,1))"
   ]
  },
  {
   "cell_type": "code",
   "execution_count": 7,
   "id": "2cf27d4b",
   "metadata": {},
   "outputs": [
    {
     "name": "stdout",
     "output_type": "stream",
     "text": [
      "65700\n"
     ]
    }
   ],
   "source": [
    "\"\"\"Question2\n",
    "Create the function that takes a list of dictionaries and returns the sum of people&#39;s budgets.\"\"\"\n",
    "def dicsum(a):\n",
    "    sum=0\n",
    "    for i in a:\n",
    "        sum=sum+i[\"budget\"]\n",
    "    return sum\n",
    "d=[\n",
    "    {\"name\":\"john\" ,\"age\":21 ,\"budget\":23000},\n",
    "    {\"name\":\"steve\" ,\"age\":32 ,\"budget\":40000},\n",
    "    {\"name\":\"martin\" ,\"age\":16 ,\"budget\":2700}\n",
    "]\n",
    "print(dicsum(d))"
   ]
  },
  {
   "cell_type": "code",
   "execution_count": 31,
   "id": "853bc046",
   "metadata": {},
   "outputs": [
    {
     "name": "stdout",
     "output_type": "stream",
     "text": [
      "\"ehllo\""
     ]
    }
   ],
   "source": [
    "\"\"\"Question3\n",
    "Create a function that takes a string and returns a string with its letters in alphabetical order.\"\"\"\n",
    "def reverse(a):\n",
    "    b=list(a)\n",
    "    c=sorted(b)\n",
    "    a=\"\"\n",
    "    for i in c:\n",
    "        a=a+str(i)\n",
    "    return a\n",
    "r=\"hello\"\n",
    "print('\"',end=\"\")\n",
    "print(reverse(r),end=\"\")\n",
    "print('\"',end=\"\")\n",
    "    "
   ]
  },
  {
   "cell_type": "code",
   "execution_count": 46,
   "id": "cf55d75e",
   "metadata": {},
   "outputs": [
    {
     "name": "stdout",
     "output_type": "stream",
     "text": [
      "18193.97\n"
     ]
    }
   ],
   "source": [
    "\"\"\"Question4\n",
    "Suppose that you invest $10,000 for 10 years at an interest rate of 6% compounded monthly.\n",
    "What will be the value of your investment at the end of the 10 year period?\n",
    "Create a function that accepts the principal p, the term in years t, the interest rate r, and the\n",
    "number of compounding periods per year n. The function returns the value at the end of term\n",
    "rounded to the nearest cent.\"\"\"\n",
    "import math\n",
    "def compound_intrest(a,b,c,d):\n",
    "    f=c/d\n",
    "    f=f+1\n",
    "    e=pow(f,d*b)\n",
    "    q=a*e\n",
    "    q=round(q,2)\n",
    "    return q\n",
    "y=compound_intrest(10000,10,.06,12)\n",
    "print(y)"
   ]
  },
  {
   "cell_type": "code",
   "execution_count": 47,
   "id": "1bceb22c",
   "metadata": {},
   "outputs": [
    {
     "name": "stdout",
     "output_type": "stream",
     "text": [
      "[9, 2, 16]\n"
     ]
    }
   ],
   "source": [
    "\"\"\"Question5\n",
    "Write a function that takes a list of elements and returns only the integers.\"\"\"\n",
    "def filter_list(a):\n",
    "    b=[]\n",
    "    for i in a:\n",
    "        if type(i)==int and i>=0:\n",
    "            b.append(i)\n",
    "    return b\n",
    "q=[9, 2,\"space\",\"car\",\"lion\", 16]\n",
    "print(filter_list(q))"
   ]
  },
  {
   "cell_type": "code",
   "execution_count": null,
   "id": "fc2c558a",
   "metadata": {},
   "outputs": [],
   "source": []
  }
 ],
 "metadata": {
  "kernelspec": {
   "display_name": "Python 3 (ipykernel)",
   "language": "python",
   "name": "python3"
  },
  "language_info": {
   "codemirror_mode": {
    "name": "ipython",
    "version": 3
   },
   "file_extension": ".py",
   "mimetype": "text/x-python",
   "name": "python",
   "nbconvert_exporter": "python",
   "pygments_lexer": "ipython3",
   "version": "3.9.12"
  }
 },
 "nbformat": 4,
 "nbformat_minor": 5
}
