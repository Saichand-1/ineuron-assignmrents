{
 "cells": [
  {
   "cell_type": "code",
   "execution_count": 1,
   "id": "41904e36",
   "metadata": {},
   "outputs": [
    {
     "name": "stdout",
     "output_type": "stream",
     "text": [
      "2\n"
     ]
    }
   ],
   "source": [
    "\"\"\"Question1\n",
    "Create a function that takes three integer arguments (a, b, c) and returns the amount of\n",
    "integers which are of equal value.\"\"\"\n",
    "def equal(a,b,c):\n",
    "    l=[]\n",
    "    l.append(a)\n",
    "    l.append(b)\n",
    "    l.append(c)\n",
    "    k=set(l)\n",
    "    r=len(k)\n",
    "    if r==1:\n",
    "        return 3\n",
    "    if r==2:\n",
    "        return 2\n",
    "    if r==3:\n",
    "        return 0\n",
    "v=equal(3,4,3)\n",
    "print(v)"
   ]
  },
  {
   "cell_type": "code",
   "execution_count": 7,
   "id": "bf1f6e68",
   "metadata": {},
   "outputs": [
    {
     "name": "stdout",
     "output_type": "stream",
     "text": [
      "[('B', 2), ('C', 3), ('D', 1)]\n"
     ]
    }
   ],
   "source": [
    "\"\"\"Question2\n",
    "Write a function that converts a dictionary into a list of keys-values tuples.\"\"\"\n",
    "def lis(a):\n",
    "    l=[]\n",
    "    for i in a:\n",
    "        d=(i,a[i])\n",
    "        l.append(d)\n",
    "    l.sort()    \n",
    "    return l\n",
    "d={\"D\":1,\"B\":2,\"C\":3}\n",
    "v=lis(d)\n",
    "print(v)"
   ]
  },
  {
   "cell_type": "code",
   "execution_count": 8,
   "id": "6458d14c",
   "metadata": {},
   "outputs": [
    {
     "name": "stdout",
     "output_type": "stream",
     "text": [
      "{'p': 'P', 's': 'S'}\n"
     ]
    }
   ],
   "source": [
    "\"\"\"Question3\n",
    "Write a function that creates a dictionary with each (key, value) pair being the (lower case,\n",
    "upper case) versions of a letter, respectively.\"\"\"\n",
    "def dicmake(a):\n",
    "    f={}\n",
    "    for i in a:\n",
    "        f[i.lower()]=i.upper()\n",
    "    return f\n",
    "s=['p','s']\n",
    "v=dicmake(s)\n",
    "print(v)"
   ]
  },
  {
   "cell_type": "code",
   "execution_count": 10,
   "id": "eef55643",
   "metadata": {},
   "outputs": [
    {
     "name": "stdout",
     "output_type": "stream",
     "text": [
      "upplus und bununus\n"
     ]
    }
   ],
   "source": [
    "\"\"\"Question4\n",
    "Write a function, that replaces all vowels in a string with a specified vowel.\"\"\"\n",
    "def vowels(a,b):\n",
    "    a=a.replace('a',b)\n",
    "    a=a.replace('e',b)\n",
    "    a=a.replace('i',b)\n",
    "    a=a.replace('o',b)\n",
    "    a=a.replace('u',b)\n",
    "    return a\n",
    "v=vowels(\"apples and bananas\",\"u\")\n",
    "print(v)"
   ]
  },
  {
   "cell_type": "code",
   "execution_count": 24,
   "id": "40b81a22",
   "metadata": {},
   "outputs": [
    {
     "name": "stdout",
     "output_type": "stream",
     "text": [
      "To Be oR NoT To Be!\n"
     ]
    }
   ],
   "source": [
    "\"\"\"Question5\n",
    "Create a function that takes a string as input and capitalizes a letter if its ASCII code is even\n",
    "and returns its lower case version if its ASCII code is odd.\"\"\"\n",
    "def change(a):\n",
    "    c=\"\"\n",
    "    for i in a:\n",
    "        v=ord(i)\n",
    "        if v%2==0:\n",
    "            c=c+i.upper()\n",
    "        if v%2==1:\n",
    "            c=c+i.lower()\n",
    "    return c\n",
    "v=change(\"to be or not to be!\")\n",
    "print(v)"
   ]
  },
  {
   "cell_type": "code",
   "execution_count": null,
   "id": "42aeb189",
   "metadata": {},
   "outputs": [],
   "source": [
    "\n",
    "                 "
   ]
  },
  {
   "cell_type": "code",
   "execution_count": 22,
   "id": "0f6094c0",
   "metadata": {},
   "outputs": [],
   "source": []
  },
  {
   "cell_type": "code",
   "execution_count": null,
   "id": "de77c949",
   "metadata": {},
   "outputs": [],
   "source": []
  },
  {
   "cell_type": "code",
   "execution_count": null,
   "id": "8ff0b063",
   "metadata": {},
   "outputs": [],
   "source": []
  }
 ],
 "metadata": {
  "kernelspec": {
   "display_name": "Python 3 (ipykernel)",
   "language": "python",
   "name": "python3"
  },
  "language_info": {
   "codemirror_mode": {
    "name": "ipython",
    "version": 3
   },
   "file_extension": ".py",
   "mimetype": "text/x-python",
   "name": "python",
   "nbconvert_exporter": "python",
   "pygments_lexer": "ipython3",
   "version": "3.9.12"
  }
 },
 "nbformat": 4,
 "nbformat_minor": 5
}
