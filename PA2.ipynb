{
 "cells": [
  {
   "cell_type": "code",
   "execution_count": 1,
   "metadata": {},
   "outputs": [
    {
     "name": "stdout",
     "output_type": "stream",
     "text": [
      "3.106855\n"
     ]
    }
   ],
   "source": [
    "km = int(input())\n",
    "ml_conv = 0.621371\n",
    "\n",
    "km_mil = km*ml_conv\n",
    "print(km_mil)"
   ]
  },
  {
   "cell_type": "code",
   "execution_count": 2,
   "metadata": {},
   "outputs": [
    {
     "name": "stdout",
     "output_type": "stream",
     "text": [
      "89.6\n"
     ]
    }
   ],
   "source": [
    "cel = int(input())\n",
    "fah = (cel * 1.8) + 32\n",
    "print(fah)"
   ]
  },
  {
   "cell_type": "code",
   "execution_count": 3,
   "metadata": {},
   "outputs": [
    {
     "name": "stdout",
     "output_type": "stream",
     "text": [
      "      May 2015\n",
      "Mo Tu We Th Fr Sa Su\n",
      "             1  2  3\n",
      " 4  5  6  7  8  9 10\n",
      "11 12 13 14 15 16 17\n",
      "18 19 20 21 22 23 24\n",
      "25 26 27 28 29 30 31\n",
      "\n"
     ]
    }
   ],
   "source": [
    "import calendar\n",
    "yr= int(input())\n",
    "mt = int(input())\n",
    "print(calendar.month(yr, mt))"
   ]
  },
  {
   "cell_type": "code",
   "execution_count": 4,
   "metadata": {},
   "outputs": [
    {
     "name": "stdout",
     "output_type": "stream",
     "text": [
      "(-1.25-1.1989578808281798j) (-1.25+1.1989578808281798j)\n"
     ]
    }
   ],
   "source": [
    "import cmath\n",
    "\n",
    "a = int(input())\n",
    "b = int(input())\n",
    "c = int(input())\n",
    "d = (b**2) - (4*a*c)\n",
    "s1 = (-b-cmath.sqrt(d))/(2*a)\n",
    "s2= (-b+cmath.sqrt(d))/(2*a)\n",
    "print(s1,s2)"
   ]
  },
  {
   "cell_type": "code",
   "execution_count": 5,
   "metadata": {},
   "outputs": [
    {
     "name": "stdout",
     "output_type": "stream",
     "text": [
      "5 4\n",
      "4 5\n"
     ]
    }
   ],
   "source": [
    "a = int(input())\n",
    "b =int(input())\n",
    "print(a,b)\n",
    "a,b =  b,a\n",
    "print(a,b)"
   ]
  },
  {
   "cell_type": "code",
   "execution_count": null,
   "metadata": {},
   "outputs": [],
   "source": []
  }
 ],
 "metadata": {
  "kernelspec": {
   "display_name": "Python 3.9.12 ('base')",
   "language": "python",
   "name": "python3"
  },
  "language_info": {
   "codemirror_mode": {
    "name": "ipython",
    "version": 3
   },
   "file_extension": ".py",
   "mimetype": "text/x-python",
   "name": "python",
   "nbconvert_exporter": "python",
   "pygments_lexer": "ipython3",
   "version": "3.9.12"
  },
  "orig_nbformat": 4,
  "vscode": {
   "interpreter": {
    "hash": "3fc262062ce044a0d09e7102c22f455cf42d45bbe08ed4424972473effeeb10b"
   }
  }
 },
 "nbformat": 4,
 "nbformat_minor": 2
}
