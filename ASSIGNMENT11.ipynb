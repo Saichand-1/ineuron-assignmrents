{
 "cells": [
  {
   "cell_type": "code",
   "execution_count": 5,
   "id": "e2b853b9",
   "metadata": {},
   "outputs": [
    {
     "name": "stdout",
     "output_type": "stream",
     "text": [
      "enter the length5\n",
      "rajehdj\n",
      "True\n"
     ]
    }
   ],
   "source": [
    "#1.Write a Python program to find words which are greater than given length k?\n",
    "a=int(input(\"enter the length\"))\n",
    "b=input()\n",
    "c=0\n",
    "for i in b:\n",
    "    c=c+1\n",
    "if c>a:\n",
    "    print(\"True\")\n",
    "else:\n",
    "    print(\"False\")"
   ]
  },
  {
   "cell_type": "code",
   "execution_count": 7,
   "id": "51b962a0",
   "metadata": {},
   "outputs": [
    {
     "name": "stdout",
     "output_type": "stream",
     "text": [
      "rahesd\n",
      "enter4\n",
      "rahsd\n"
     ]
    }
   ],
   "source": [
    "#2.Write a Python program for removing i-th character from a string\n",
    "x=0\n",
    "d=input()\n",
    "e=''\n",
    "t=int(input(\"enter\"))\n",
    "t=t-1\n",
    "for i in d:\n",
    "    if t!=x:\n",
    "        e=e+i\n",
    "    x=x+1\n",
    "d=e\n",
    "print(d)"
   ]
  },
  {
   "cell_type": "code",
   "execution_count": 18,
   "id": "f6123859",
   "metadata": {},
   "outputs": [
    {
     "name": "stdout",
     "output_type": "stream",
     "text": [
      "raj\n",
      "esh\n",
      "rajesh\n",
      "['', 'h', 'hjoijipj;o']\n"
     ]
    }
   ],
   "source": [
    "#3.Write a Python program to split and join a string?\n",
    "f=\"uhuhjoijipj;o\"\n",
    "r=f.split(sep='u',maxsplit=3)\n",
    "d=input()\n",
    "e=input()\n",
    "g=d+e\n",
    "print(g)\n",
    "print(r)"
   ]
  },
  {
   "cell_type": "code",
   "execution_count": 25,
   "id": "8fdf4a4d",
   "metadata": {},
   "outputs": [
    {
     "name": "stdout",
     "output_type": "stream",
     "text": [
      "1222\n",
      "given string is not a binary\n"
     ]
    }
   ],
   "source": [
    "#4.Write a Python to check if a given string is binary string or not?\n",
    "f=input()\n",
    "d=0\n",
    "for i in f:\n",
    "    d=d+1\n",
    "a=0\n",
    "b=0\n",
    "for i in f:\n",
    "    if i=='1':\n",
    "        a=a+1\n",
    "    elif i=='0':\n",
    "        b=b+1\n",
    "if a+b==d: \n",
    "    print(\"given string is binary\")\n",
    "else:\n",
    "    print(\"given string is not a binary\")"
   ]
  },
  {
   "cell_type": "code",
   "execution_count": 14,
   "id": "2e70e4b1",
   "metadata": {},
   "outputs": [
    {
     "name": "stdout",
     "output_type": "stream",
     "text": [
      "iam rajesh\n",
      "my name is rajesh\n",
      "['iam', 'my', 'name', 'is']\n"
     ]
    }
   ],
   "source": [
    "#5.Write a Python program to find uncommon words from two Strings?\n",
    "d=input()\n",
    "e=input()\n",
    "a=d.split(sep=' ')\n",
    "b=e.split(sep=' ')\n",
    "c=0\n",
    "g=[]\n",
    "for i in a:\n",
    "    c=0\n",
    "    for j in b:\n",
    "        if i==j:\n",
    "            c=c+1\n",
    "    if c==0:\n",
    "        g.append(i)\n",
    "for i in b:\n",
    "    c=0\n",
    "    for j in a:\n",
    "        if i==j:\n",
    "            c=c+1\n",
    "    if c==0:\n",
    "        g.append(i)    \n",
    "print(g)        "
   ]
  },
  {
   "cell_type": "code",
   "execution_count": 21,
   "id": "1f555f0a",
   "metadata": {},
   "outputs": [
    {
     "name": "stdout",
     "output_type": "stream",
     "text": [
      "william\n",
      "['i', 'l']\n"
     ]
    }
   ],
   "source": [
    "#6.Write a Python to find all duplicate characters in string?\n",
    "a=input()\n",
    "l=[]\n",
    "c=0\n",
    "for i in a:\n",
    "    c=0\n",
    "    for j in a:\n",
    "        if i==j:\n",
    "            c=c+1\n",
    "    if c>1:\n",
    "        l.append(i)\n",
    "l.sort()\n",
    "d=[]\n",
    "for i in range(len(l)):\n",
    "    if i<len(l)-1:\n",
    "        if(l[i]!=l[i+1]):\n",
    "            d.append(l[i])\n",
    "    else:\n",
    "        d.append(l[i])\n",
    "print(d)            "
   ]
  },
  {
   "cell_type": "code",
   "execution_count": 30,
   "id": "fa6372f0",
   "metadata": {},
   "outputs": [
    {
     "name": "stdout",
     "output_type": "stream",
     "text": [
      "@!####$\n",
      "True\n"
     ]
    }
   ],
   "source": [
    "#7. Write a Python Program to check if a string contains any special character?\n",
    "r=input()\n",
    "c=0\n",
    "for i in r:\n",
    "    if (ord(i)>=21 and ord(i)<=47) or (ord(i)>=58 and ord(i)<=64) or (ord(i)>=91 and ord(i)<=96) or (ord(i)>=123 and ord(i)<=126):\n",
    "        print(\"True\")\n",
    "        c=1\n",
    "        break \n",
    "if(c==0):\n",
    "    print(\"False\")"
   ]
  },
  {
   "cell_type": "code",
   "execution_count": null,
   "id": "0946bde1",
   "metadata": {},
   "outputs": [],
   "source": []
  },
  {
   "cell_type": "code",
   "execution_count": null,
   "id": "b25b7282",
   "metadata": {},
   "outputs": [],
   "source": []
  }
 ],
 "metadata": {
  "kernelspec": {
   "display_name": "Python 3 (ipykernel)",
   "language": "python",
   "name": "python3"
  },
  "language_info": {
   "codemirror_mode": {
    "name": "ipython",
    "version": 3
   },
   "file_extension": ".py",
   "mimetype": "text/x-python",
   "name": "python",
   "nbconvert_exporter": "python",
   "pygments_lexer": "ipython3",
   "version": "3.9.12"
  }
 },
 "nbformat": 4,
 "nbformat_minor": 5
}
