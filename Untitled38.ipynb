{
 "cells": [
  {
   "cell_type": "code",
   "execution_count": 1,
   "id": "d079a4e1",
   "metadata": {},
   "outputs": [
    {
     "name": "stdout",
     "output_type": "stream",
     "text": [
      "[0, 1729]\n"
     ]
    }
   ],
   "source": [
    "\"\"\"Question1\n",
    "Create a function that takes a list of strings and integers, and filters out the list so that it\n",
    "returns a list of integers only.\"\"\"\n",
    "def filter_list(a):\n",
    "    b=[]\n",
    "    for i in a:\n",
    "        if type(i)==int and i>=0:\n",
    "            b.append(i)\n",
    "    return b\n",
    "q=[\"A\",0,\"Edabit\",1729,\"python\",\"1729\"]\n",
    "print(filter_list(q))"
   ]
  },
  {
   "cell_type": "code",
   "execution_count": 2,
   "id": "2556bcf5",
   "metadata": {},
   "outputs": [
    {
     "name": "stdout",
     "output_type": "stream",
     "text": [
      "[5, 5, 5, 5, 5]\n"
     ]
    }
   ],
   "source": [
    "\"\"\"Question2\n",
    "Given a list of numbers, create a function which returns the list but with each element's\n",
    "index in the list added to itself. This means you add 0 to the number at index 0, add 1 to the\n",
    "number at index 1, etc...\"\"\"\n",
    "def sumindex(a):\n",
    "    for i in range(len(a)):\n",
    "        a[i]=a[i]+i\n",
    "    return a \n",
    "a=[5,4,3,2,1]\n",
    "print(sumindex(a))"
   ]
  },
  {
   "cell_type": "code",
   "execution_count": 3,
   "id": "a86d822f",
   "metadata": {},
   "outputs": [
    {
     "name": "stdout",
     "output_type": "stream",
     "text": [
      "12.57\n"
     ]
    }
   ],
   "source": [
    "\"\"\"Question3\n",
    "Create a function that takes the height and radius of a cone as arguments and returns the\n",
    "volume of the cone rounded to the nearest hundredth. See the resources tab for the formula.\"\"\"\n",
    "import math\n",
    "def conevolume(a,b):\n",
    "    c=math.pi\n",
    "    v=(c*b*b*a)/3\n",
    "    p=round(v,2)\n",
    "    return p\n",
    "print(conevolume(3,2))\n",
    "    "
   ]
  },
  {
   "cell_type": "code",
   "execution_count": 6,
   "id": "c0b93d01",
   "metadata": {},
   "outputs": [
    {
     "name": "stdout",
     "output_type": "stream",
     "text": [
      "1.0\n",
      "21.0\n",
      "23220.0\n"
     ]
    }
   ],
   "source": [
    "\"\"\"Question4\n",
    "This Triangular Number Sequence is generated from a pattern of dots that form a triangle.\n",
    "The first 5 numbers of the sequence, or dots, are:\n",
    "1, 3, 6, 10, 15\n",
    "This means that the first triangle has just one dot, the second one has three dots, the third one\n",
    "has 6 dots and so on.\n",
    "Write a function that gives the number of dots with its corresponding triangle number of the\n",
    "sequence.\n",
    "\"\"\"\n",
    "def trianglesequence(a):\n",
    "    v=(a*(a+1))/2\n",
    "    return v\n",
    "print(trianglesequence(1))\n",
    "print(trianglesequence(6))\n",
    "print(trianglesequence(215))"
   ]
  },
  {
   "cell_type": "code",
   "execution_count": 7,
   "id": "15a4ed1c",
   "metadata": {},
   "outputs": [
    {
     "name": "stdout",
     "output_type": "stream",
     "text": [
      "5\n"
     ]
    }
   ],
   "source": [
    "\"\"\"Question5\n",
    "Create a function that takes a list of numbers between 1 and 10 (excluding one number) and\n",
    "returns the missing number.\"\"\"\n",
    "def missing_no(a):\n",
    "    l=[i for i in range(0,11)]\n",
    "    sum1=0\n",
    "    sum2=0\n",
    "    for i in l:\n",
    "        sum1=sum1+i\n",
    "    for i in a:\n",
    "        sum2=sum2+i\n",
    "    return sum1-sum2\n",
    "l=[1,2,3,4,6,7,8,9,10]\n",
    "print(missing_no(l))"
   ]
  },
  {
   "cell_type": "code",
   "execution_count": null,
   "id": "11c65afa",
   "metadata": {},
   "outputs": [],
   "source": []
  }
 ],
 "metadata": {
  "kernelspec": {
   "display_name": "Python 3 (ipykernel)",
   "language": "python",
   "name": "python3"
  },
  "language_info": {
   "codemirror_mode": {
    "name": "ipython",
    "version": 3
   },
   "file_extension": ".py",
   "mimetype": "text/x-python",
   "name": "python",
   "nbconvert_exporter": "python",
   "pygments_lexer": "ipython3",
   "version": "3.9.12"
  }
 },
 "nbformat": 4,
 "nbformat_minor": 5
}
