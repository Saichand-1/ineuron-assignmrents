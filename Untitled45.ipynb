{
 "cells": [
  {
   "cell_type": "code",
   "execution_count": 3,
   "id": "3d1e173e",
   "metadata": {},
   "outputs": [
    {
     "data": {
      "text/plain": [
       "dict"
      ]
     },
     "execution_count": 3,
     "metadata": {},
     "output_type": "execute_result"
    }
   ],
   "source": [
    "\"\"\"1. What does an empty dictionary\"\"\"\n",
    "v={}\n",
    "type(v)"
   ]
  },
  {
   "cell_type": "code",
   "execution_count": null,
   "id": "0243cf73",
   "metadata": {},
   "outputs": [],
   "source": [
    "\"\"\"What is the value of a dictionary value with the key \"foo\" and the value 42?\"\"\"\n",
    "42"
   ]
  },
  {
   "cell_type": "code",
   "execution_count": 4,
   "id": "a797fcf5",
   "metadata": {},
   "outputs": [
    {
     "data": {
      "text/plain": [
       "'the main difference in dictionary and keys is the the value in dictionary are accessed by keys not by the values postion which we do in list'"
      ]
     },
     "execution_count": 4,
     "metadata": {},
     "output_type": "execute_result"
    }
   ],
   "source": [
    "\"\"\"3. What is the most significant distinction between a dictionary and a list?\"\"\"\n",
    "\"the main difference in dictionary and keys is the the value in dictionary are unordered and values in list are ordered\""
   ]
  },
  {
   "cell_type": "code",
   "execution_count": 6,
   "id": "b9b40ae8",
   "metadata": {},
   "outputs": [
    {
     "data": {
      "text/plain": [
       "'We get a key error in the console'"
      ]
     },
     "execution_count": 6,
     "metadata": {},
     "output_type": "execute_result"
    }
   ],
   "source": [
    "\"\"\"What happens if you try to access spam[\"foo\"] if spam is {\"bar\": 100}?\"\"\"\n",
    "\"We get a key error in the console\""
   ]
  },
  {
   "cell_type": "code",
   "execution_count": 20,
   "id": "8e6ef1aa",
   "metadata": {},
   "outputs": [
    {
     "data": {
      "text/plain": [
       "'\\'if we use spam[\"cat\"] it will give value stored at key cat in the dictionary if the cat has a value in the dictionary otherwise we get a key error\"\\nif we use spam.keys() it will give all the keys present in dictionary spam if we do spam.keys(\"cat\") then it will give type error\\''"
      ]
     },
     "execution_count": 20,
     "metadata": {},
     "output_type": "execute_result"
    }
   ],
   "source": [
    "\"\"\"If a dictionary is stored in spam, what is the difference between the expressions \"cat\" in spam and\n",
    "\"cat\" in spam.keys()?\"\"\"\n",
    "\"\"\"'if we use spam[\"cat\"] it will give value stored at key cat in the dictionary if the cat has a value in the dictionary otherwise we get a key error\"\\nif we use spam.keys() it will give all the keys present in dictionary spam if we do spam.keys(\"cat\") then it will give type error'\"\"\""
   ]
  },
  {
   "cell_type": "code",
   "execution_count": 21,
   "id": "6dc615e5",
   "metadata": {},
   "outputs": [
    {
     "data": {
      "text/plain": [
       "'if we use spam[\\'cat\\'] it will give value stored at key cat in the dictionary if the cat has a value in the dictionary otherwise we get a key error\"\\nif we use spam.values() it will give all the values in a list present in dictionary spam. If we do spam.values(\\'cat\\') then it will give type error.'"
      ]
     },
     "execution_count": 21,
     "metadata": {},
     "output_type": "execute_result"
    }
   ],
   "source": [
    "\"\"\"6. If a dictionary is stored in spam, what is the difference between the expressions \"cat\" in spam and\n",
    "\"cat\" in spam.values()?\"\"\"\n",
    "\"\"\"if we use spam['cat'] it will give value stored at key cat in the dictionary if the cat has a value in the dictionary otherwise we get a key error\"\n",
    "if we use spam.values() it will give all the values in a list present in dictionary spam. If we do spam.values('cat') then it will give type error.\"\"\""
   ]
  },
  {
   "cell_type": "code",
   "execution_count": 22,
   "id": "0d4f3b79",
   "metadata": {},
   "outputs": [
    {
     "data": {
      "text/plain": [
       "\"spam.setdefault('color','black')\""
      ]
     },
     "execution_count": 22,
     "metadata": {},
     "output_type": "execute_result"
    }
   ],
   "source": [
    "\"\"\"7. What is a shortcut for the following code?\n",
    "if \"color\" not in spam\"\"\"\n",
    "\"spam.setdefault('color','black')\"\n"
   ]
  },
  {
   "cell_type": "code",
   "execution_count": 33,
   "id": "908433a2",
   "metadata": {},
   "outputs": [
    {
     "data": {
      "text/plain": [
       "'By using pprint module and using pprint function in it we can do preetyprint'"
      ]
     },
     "execution_count": 33,
     "metadata": {},
     "output_type": "execute_result"
    }
   ],
   "source": [
    "\"\"\"How do you \"pretty print\" dictionary values using which module and function?\"\"\"\n",
    "\"By using pprint module and using pprint function in it we can do preetyprint\""
   ]
  },
  {
   "cell_type": "code",
   "execution_count": null,
   "id": "025fceda",
   "metadata": {},
   "outputs": [],
   "source": []
  }
 ],
 "metadata": {
  "kernelspec": {
   "display_name": "Python 3 (ipykernel)",
   "language": "python",
   "name": "python3"
  },
  "language_info": {
   "codemirror_mode": {
    "name": "ipython",
    "version": 3
   },
   "file_extension": ".py",
   "mimetype": "text/x-python",
   "name": "python",
   "nbconvert_exporter": "python",
   "pygments_lexer": "ipython3",
   "version": "3.9.12"
  }
 },
 "nbformat": 4,
 "nbformat_minor": 5
}
