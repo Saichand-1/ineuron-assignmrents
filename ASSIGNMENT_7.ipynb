{
 "cells": [
  {
   "cell_type": "code",
   "execution_count": 3,
   "id": "acc258d8",
   "metadata": {},
   "outputs": [
    {
     "name": "stdout",
     "output_type": "stream",
     "text": [
      "15\n"
     ]
    }
   ],
   "source": [
    "#1.Write a Python Program to find sum of array?\n",
    "def arrsum(a):\n",
    "    try:\n",
    "        sum=0\n",
    "        for i in a:\n",
    "            sum=sum+i\n",
    "        return sum\n",
    "    except:\n",
    "        print(\"invalid input\")\n",
    "a=[1,2,3,4,5]\n",
    "print(arrsum(a))"
   ]
  },
  {
   "cell_type": "code",
   "execution_count": 6,
   "id": "30fd1167",
   "metadata": {},
   "outputs": [
    {
     "name": "stdout",
     "output_type": "stream",
     "text": [
      "5\n"
     ]
    }
   ],
   "source": [
    "#2.Write a Python Program to find largest element in an array?\n",
    "def max_(a):\n",
    "    try:\n",
    "        max=a[0]\n",
    "        for i in a:\n",
    "            if max<i:\n",
    "                max=i\n",
    "        return max\n",
    "    except:\n",
    "        print(\"invalid input\")\n",
    "a=[1,2,3,4,5]\n",
    "print(max_(a))        "
   ]
  },
  {
   "cell_type": "code",
   "execution_count": 18,
   "id": "2d59ae5f",
   "metadata": {},
   "outputs": [
    {
     "name": "stdout",
     "output_type": "stream",
     "text": [
      "by how much you want to rotate the array3\n",
      "[4, 5, 1, 2, 3]\n"
     ]
    }
   ],
   "source": [
    "#3.Write a Python Program for array rotation?\n",
    "def rotation(a,b):\n",
    "    try:\n",
    "        c=[]\n",
    "        for i in range(len(a)):\n",
    "            if(i>=b):\n",
    "                c.append(a[i])\n",
    "        for i in range(b):\n",
    "            c.append(a[i])\n",
    "        return c\n",
    "    except:\n",
    "        print(\"your input is invalid\")\n",
    "        \n",
    "a=[1,2,3,4,5]\n",
    "b=int(input(\"by how much you want to rotate the array\"))\n",
    "print(rotation(a,b))"
   ]
  },
  {
   "cell_type": "code",
   "execution_count": 29,
   "id": "d2d4f15a",
   "metadata": {},
   "outputs": [
    {
     "name": "stdout",
     "output_type": "stream",
     "text": [
      "by how much you want to rotate the array2\n",
      "[3, 4, 5, 1, 2]\n"
     ]
    }
   ],
   "source": [
    "#4.Write a Python Program to Split the array and add the first part to the end?\n",
    "def addtotheend(a,b):\n",
    "    try:\n",
    "        c=[]\n",
    "        d=[]\n",
    "        for i in range(len(a)):\n",
    "            if i<b:\n",
    "                c.append(a[i])\n",
    "            else:\n",
    "                d.append(a[i])\n",
    "        for i in c:\n",
    "            d.append(i)\n",
    "        return d    \n",
    "    except: \n",
    "        print(\"your input is invalid\")\n",
    "        \n",
    "a=[1,2,3,4,5]\n",
    "b=int(input(\"by how much you want to rotate the array\"))\n",
    "print(addtotheend(a,b))"
   ]
  },
  {
   "cell_type": "code",
   "execution_count": 47,
   "id": "9cf153d0",
   "metadata": {},
   "outputs": [
    {
     "name": "stdout",
     "output_type": "stream",
     "text": [
      "True\n"
     ]
    }
   ],
   "source": [
    "#5.Write a Python Program to check if given array is Monotonic?\n",
    "def monotonic(a):\n",
    "    try:\n",
    "        count=0\n",
    "        for i in range(len(a)):\n",
    "            if i+1<len(a):      \n",
    "                if a[i]<a[i+1]:\n",
    "                    count=count+1\n",
    "        if count+1==len(a):\n",
    "            return True\n",
    "        count=0\n",
    "        for i in range(len(a)):\n",
    "            if i+1<len(a):      \n",
    "                if a[i]>a[i+1]:\n",
    "                    count=count+1\n",
    "        if count+1==len(a):\n",
    "            return True\n",
    "    except: \n",
    "        print(\"your input is invalid\")\n",
    "a=[1,2,3,4,5]\n",
    "print(monotonic(a))"
   ]
  },
  {
   "cell_type": "code",
   "execution_count": null,
   "id": "64f7c743",
   "metadata": {},
   "outputs": [],
   "source": []
  },
  {
   "cell_type": "code",
   "execution_count": null,
   "id": "ac4e5af4",
   "metadata": {},
   "outputs": [],
   "source": []
  },
  {
   "cell_type": "code",
   "execution_count": null,
   "id": "0887b2c1",
   "metadata": {},
   "outputs": [],
   "source": []
  }
 ],
 "metadata": {
  "kernelspec": {
   "display_name": "Python 3 (ipykernel)",
   "language": "python",
   "name": "python3"
  },
  "language_info": {
   "codemirror_mode": {
    "name": "ipython",
    "version": 3
   },
   "file_extension": ".py",
   "mimetype": "text/x-python",
   "name": "python",
   "nbconvert_exporter": "python",
   "pygments_lexer": "ipython3",
   "version": "3.9.12"
  }
 },
 "nbformat": 4,
 "nbformat_minor": 5
}
