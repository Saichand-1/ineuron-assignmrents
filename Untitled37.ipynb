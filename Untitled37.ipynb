{
 "cells": [
  {
   "cell_type": "code",
   "execution_count": 8,
   "id": "7e7f30db",
   "metadata": {},
   "outputs": [
    {
     "name": "stdout",
     "output_type": "stream",
     "text": [
      "ssttrriinngg\n"
     ]
    }
   ],
   "source": [
    "\"\"\"Question1\n",
    "Create a function that takes a string and returns a string in which each character is repeated\n",
    "once.\"\"\"\n",
    "def double(s):\n",
    "    q=\"\";\n",
    "    for i in s:\n",
    "        q=q+i*2\n",
    "    return q\n",
    "r=\"string\"\n",
    "w=double(r)\n",
    "print(w)"
   ]
  },
  {
   "cell_type": "code",
   "execution_count": 19,
   "id": "d19707b2",
   "metadata": {},
   "outputs": [
    {
     "name": "stdout",
     "output_type": "stream",
     "text": [
      "boolean expected\n"
     ]
    }
   ],
   "source": [
    "\"\"\"Question2\n",
    "Create a function that reverses a boolean value and returns the string \"boolean expected\"\n",
    "if another variable type is given.\"\"\"\n",
    "def booleancheck(a):\n",
    "    if a==True:\n",
    "        return False\n",
    "    elif a==False:\n",
    "        return True\n",
    "    else:\n",
    "        print(\"boolean expected\")\n",
    "ty=True\n",
    "booleancheck(None)"
   ]
  },
  {
   "cell_type": "code",
   "execution_count": 23,
   "id": "9961f39f",
   "metadata": {},
   "outputs": [
    {
     "name": "stdout",
     "output_type": "stream",
     "text": [
      "1048.576m\n"
     ]
    }
   ],
   "source": [
    "\"\"\"Question3\n",
    "Create a function that returns the thickness (in meters) of a piece of paper after folding it n\n",
    "number of times. The paper starts off with a thickness of 0.5mm.\"\"\"\n",
    "def thickness(a):\n",
    "    r=pow(2,a)\n",
    "    r=r*(.5)\n",
    "    return r\n",
    "w=thickness(21)\n",
    "print(f\"{w/1000}\"+\"m\")"
   ]
  },
  {
   "cell_type": "code",
   "execution_count": 24,
   "id": "df0d4e84",
   "metadata": {},
   "outputs": [
    {
     "name": "stdout",
     "output_type": "stream",
     "text": [
      "[1, 3, 5]\n"
     ]
    }
   ],
   "source": [
    "\"\"\"Question4\n",
    "Create a function that takes a single string as argument and returns an ordered list containing\n",
    "the indices of all capital letters in the string.\"\"\"\n",
    "def indexes(a):\n",
    "    l=[]\n",
    "    for i in range(len(a)):\n",
    "        if a[i]>='A' and a[i]<='Z':\n",
    "            l.append(i)\n",
    "    return l\n",
    "r=\"eDaBiT\"\n",
    "q=indexes(r)\n",
    "print(q)"
   ]
  },
  {
   "cell_type": "code",
   "execution_count": 32,
   "id": "2e34ccea",
   "metadata": {},
   "outputs": [
    {
     "name": "stdout",
     "output_type": "stream",
     "text": [
      "[2, 4, 6, 8]\n"
     ]
    }
   ],
   "source": [
    "\"\"\"Question5\n",
    "Using list comprehensions, create a function that finds all even numbers from 1 to the given\n",
    "number.\"\"\"\n",
    "def numbers(r):\n",
    "    d=[i for i in range(r+1) if i%2==0]\n",
    "    return d\n",
    "t=numbers(8)\n",
    "t.pop(0)\n",
    "print(t)"
   ]
  },
  {
   "cell_type": "code",
   "execution_count": null,
   "id": "53c7d0a3",
   "metadata": {},
   "outputs": [],
   "source": []
  }
 ],
 "metadata": {
  "kernelspec": {
   "display_name": "Python 3 (ipykernel)",
   "language": "python",
   "name": "python3"
  },
  "language_info": {
   "codemirror_mode": {
    "name": "ipython",
    "version": 3
   },
   "file_extension": ".py",
   "mimetype": "text/x-python",
   "name": "python",
   "nbconvert_exporter": "python",
   "pygments_lexer": "ipython3",
   "version": "3.9.12"
  }
 },
 "nbformat": 4,
 "nbformat_minor": 5
}
