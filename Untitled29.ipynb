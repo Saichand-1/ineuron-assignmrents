{
 "cells": [
  {
   "cell_type": "code",
   "execution_count": 3,
   "id": "98302c79",
   "metadata": {},
   "outputs": [
    {
     "name": "stdout",
     "output_type": "stream",
     "text": [
      "0\n",
      "7\n",
      "14\n",
      "21\n",
      "28\n",
      "35\n",
      "42\n",
      "49\n"
     ]
    }
   ],
   "source": [
    "#1.Define a class with a generator which can iterate the numbers, which are divisible by 7, between a given range 0 and n.\n",
    "class test1:\n",
    "    def __init__(self,a):\n",
    "        self.a=a\n",
    "    def iterator(self):\n",
    "        b=range(0,self.a)\n",
    "        for i in b:\n",
    "            if i%7==0:\n",
    "                yield i;\n",
    "\n",
    "a=test1(50)\n",
    "for i in a.iterator():\n",
    "    print(i)"
   ]
  },
  {
   "cell_type": "code",
   "execution_count": 9,
   "id": "9b00a6ff",
   "metadata": {},
   "outputs": [
    {
     "name": "stdout",
     "output_type": "stream",
     "text": [
      "2 : 2\n",
      "3 : 1\n",
      "3? : 1\n",
      "New : 1\n",
      "Python : 4\n",
      "Read : 1\n",
      "and : 1\n",
      "between : 1\n",
      "choosing : 1\n",
      "or : 1\n",
      "orPython : 1\n",
      "to : 1\n"
     ]
    }
   ],
   "source": [
    "\"\"\"Question 2:\n",
    "Write a program to compute the frequency of the words from the input. The output\n",
    "should output after sorting the key alphanumerically.\n",
    "Suppose the following input is supplied to the program:\n",
    "New to Python or choosing between Python 2 and Python 3? Read Python 2 or\n",
    "Python 3.\"\"\"\n",
    "\n",
    "s=\"New to Python or choosing between Python 2 and Python 3? Read Python 2 orPython 3\"\n",
    "r=s.split(sep=\" \")\n",
    "r.sort()\n",
    "w={}\n",
    "for i in r:\n",
    "    w[i]=0\n",
    "for i in r:\n",
    "    w[i]=w[i]+1\n",
    "for i in w:\n",
    "    print(i,\":\",w[i])\n",
    "    "
   ]
  },
  {
   "cell_type": "code",
   "execution_count": 18,
   "id": "96f1ae6a",
   "metadata": {},
   "outputs": [
    {
     "name": "stdout",
     "output_type": "stream",
     "text": [
      "Male\n",
      "Female\n"
     ]
    }
   ],
   "source": [
    "\"\"\"3.Define a class Person and its two child classes: Male and Female. All classes have a\n",
    "method \"getGender\" which can print \"Male\" for Male class and \"Female\" for Female\n",
    "class.\"\"\"\n",
    "class Person:\n",
    "    def getgender(self):\n",
    "        pass\n",
    "class Male(Person):\n",
    "    def getgender(self):\n",
    "        print(\"Male\")\n",
    "class Female(Person):\n",
    "    def getgender(self):\n",
    "        print(\"Female\")\n",
    "z=Male()\n",
    "z.getgender()\n",
    "y=Female()\n",
    "y.getgender()\n",
    "    "
   ]
  },
  {
   "cell_type": "code",
   "execution_count": 19,
   "id": "b43ccde3",
   "metadata": {},
   "outputs": [
    {
     "name": "stdout",
     "output_type": "stream",
     "text": [
      "I Play Hockey\n",
      "I Play Football\n",
      "I Love Hockey\n",
      "I Love Football\n",
      "You Play Hockey\n",
      "You Play Football\n",
      "You Love Hockey\n",
      "You Love Football\n"
     ]
    }
   ],
   "source": [
    "\"\"\"4.Please write a program to generate all sentences where subject is in [\"I\", \"You\"] and\n",
    "verb is in [\"Play\", \"Love\"] and the object is in [\"Hockey\",\"Football\"].\"\"\"\n",
    "x=[\"I\", \"You\"]\n",
    "y=[\"Play\", \"Love\"]\n",
    "z=[\"Hockey\",\"Football\"]\n",
    "for i in x:\n",
    "    for j in y:\n",
    "        for k in z:\n",
    "            print(i+\" \"+j+\" \"+k)"
   ]
  },
  {
   "cell_type": "code",
   "execution_count": 34,
   "id": "e8310451",
   "metadata": {},
   "outputs": [
    {
     "data": {
      "text/plain": [
       "'hello world!hello world!hello w orld!hello world!'"
      ]
     },
     "execution_count": 34,
     "metadata": {},
     "output_type": "execute_result"
    }
   ],
   "source": [
    "\"\"\"5.Please write a program to compress and decompress the string \"hello world!hello\n",
    "world!hello world!hello world!\".\"\"\"\n",
    "import gzip\n",
    "w=b\"hello world!hello world!hello w orld!hello world!\"\n",
    "s=gzip.compress(w)\n",
    "q=gzip.decompress(s)\n",
    "q.decode()\n"
   ]
  },
  {
   "cell_type": "code",
   "execution_count": 40,
   "id": "ebf2768d",
   "metadata": {},
   "outputs": [
    {
     "data": {
      "text/plain": [
       "2"
      ]
     },
     "execution_count": 40,
     "metadata": {},
     "output_type": "execute_result"
    }
   ],
   "source": [
    "\"\"\"6.Question 6:\n",
    "Please write a binary search function which searches an item in a sorted list. The\n",
    "function should return the index of element to be searched in the list.\"\"\"\n",
    "def binarysearch(a,k):\n",
    "    s=0\n",
    "    e=len(a)-1\n",
    "    mid=(s+e)//2\n",
    "    while s<e:\n",
    "        if a[mid]==k:\n",
    "            return mid\n",
    "        elif a[mid]>k:\n",
    "            e=mid-1\n",
    "        elif a[mid]<k:\n",
    "            s=mid+1\n",
    "        mid=(s+e)//2\n",
    "    return -1    \n",
    "l=[5,23,45,156,234,876]\n",
    "q=binarysearch(l,45)\n",
    "q"
   ]
  },
  {
   "cell_type": "code",
   "execution_count": null,
   "id": "9f75e6bf",
   "metadata": {},
   "outputs": [],
   "source": []
  }
 ],
 "metadata": {
  "kernelspec": {
   "display_name": "Python 3 (ipykernel)",
   "language": "python",
   "name": "python3"
  },
  "language_info": {
   "codemirror_mode": {
    "name": "ipython",
    "version": 3
   },
   "file_extension": ".py",
   "mimetype": "text/x-python",
   "name": "python",
   "nbconvert_exporter": "python",
   "pygments_lexer": "ipython3",
   "version": "3.9.12"
  }
 },
 "nbformat": 4,
 "nbformat_minor": 5
}
