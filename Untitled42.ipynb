{
 "cells": [
  {
   "cell_type": "code",
   "execution_count": 3,
   "id": "f01c07f4",
   "metadata": {},
   "outputs": [
    {
     "name": "stdout",
     "output_type": "stream",
     "text": [
      "[1, 2, 3, 40, 5, 6, 7, 80, 9, 10, 11, 120, 13, 14, 15, 160, 17, 18, 19, 200, 21, 22, 23, 240, 25]\n"
     ]
    }
   ],
   "source": [
    "\"\"\"Question1\n",
    "Create a function that takes an integer and returns a list from 1 to the given number, where:\n",
    "1. If the number can be divided evenly by 4, amplify it by 10 (i.e. return 10 times the\n",
    "number).\n",
    "2. If the number cannot be divided evenly by 4, simply return the number.\"\"\"\n",
    "def create(a):\n",
    "    li=[i if i%4!=0 else i*10 for i in range(a+1)]\n",
    "    li.pop(0)\n",
    "    return li\n",
    "v=create(25)\n",
    "print(v)"
   ]
  },
  {
   "cell_type": "code",
   "execution_count": 16,
   "id": "ecf0761f",
   "metadata": {},
   "outputs": [
    {
     "name": "stdout",
     "output_type": "stream",
     "text": [
      "7\n"
     ]
    }
   ],
   "source": [
    "\"\"\"Question2\n",
    "Create a function that takes a list of numbers and return the number that's unique.\"\"\"\n",
    "def create(b):\n",
    "    b.sort()\n",
    "    for i in range(len(b)):\n",
    "        if i+1<len(b)-1 & i-1>=0:\n",
    "            if b[i]!=b[i+1] & b[i]!=b[i-1]:\n",
    "                return b[i]\n",
    "        if i-1<0:\n",
    "            if b[i]!=b[i+1]:\n",
    "                return b[i]\n",
    "        if i+1>len(b)-1:\n",
    "            if b[i]!=b[i-1]:\n",
    "                return b[i]\n",
    "b=[3,3,3,7,3,3]     \n",
    "print(create(b))\n"
   ]
  },
  {
   "cell_type": "code",
   "execution_count": 21,
   "id": "c0acf7e0",
   "metadata": {},
   "outputs": [
    {
     "name": "stdout",
     "output_type": "stream",
     "text": [
      "380\n",
      "28\n"
     ]
    }
   ],
   "source": [
    "\"\"\"Question3\n",
    "Your task is to create a Circle constructor that creates a circle with a radius provided by an\n",
    "argument. The circles constructed must have two getters getArea() (PIr^2) and\n",
    "getPerimeter() (2PI*r) which give both respective areas and perimeter (circumference).\n",
    "For help with this class, I have provided you with a Rectangle constructor which you can use\n",
    "as a base example.\"\"\"\n",
    "import math\n",
    "class Circle:\n",
    "    def __init__(self,radius):\n",
    "        self.radius=radius\n",
    "    def getperimeter(self):\n",
    "        c=math.pi\n",
    "        return round(2*c*self.radius)\n",
    "    def getarea(self):\n",
    "        c=math.pi\n",
    "        return round(c*self.radius*self.radius)\n",
    "circy = Circle(11)\n",
    "print(circy.getarea())\n",
    "circy = Circle(4.44)\n",
    "print(circy.getperimeter())    \n",
    "        "
   ]
  },
  {
   "cell_type": "code",
   "execution_count": 24,
   "id": "53775a00",
   "metadata": {},
   "outputs": [
    {
     "name": "stdout",
     "output_type": "stream",
     "text": [
      "['Jung', 'Turing', 'Einstein']\n"
     ]
    }
   ],
   "source": [
    "\"\"\"Question4\n",
    "Create a function that takes a list of strings and return a list, sorted from shortest to longest.\"\"\"\n",
    "def lensort(a):\n",
    "    b={}\n",
    "    c=[]\n",
    "    d=[]\n",
    "    for i in range(len(a)):\n",
    "        b[len(a[i])]=a[i]\n",
    "        c.append(len(a[i]))\n",
    "    c.sort()\n",
    "    for i in range(len(c)):\n",
    "        d.append(b[c[i]])\n",
    "    a=d   \n",
    "    return a\n",
    "g=[\"Turing\",\"Einstein\",\"Jung\"]\n",
    "v=lensort(g)\n",
    "print(v)"
   ]
  },
  {
   "cell_type": "code",
   "execution_count": 27,
   "id": "a8f0429e",
   "metadata": {},
   "outputs": [
    {
     "name": "stdout",
     "output_type": "stream",
     "text": [
      "True\n"
     ]
    }
   ],
   "source": [
    "\"\"\"Question5\n",
    "Create a function that validates whether three given integers form a Pythagorean triplet. The\n",
    "sum of the squares of the two smallest integers must equal the square of the largest number to\n",
    "be validated.\"\"\"\n",
    "def triplet(a,b,c):\n",
    "    v=max(a,b,c)\n",
    "    if v==a:\n",
    "        if (b*b+c*c)==a*a:\n",
    "            return True\n",
    "        else:\n",
    "            return False\n",
    "    if v==b:\n",
    "        if (a*a+c*c)==b*b:\n",
    "            return True\n",
    "        else:\n",
    "            return False   \n",
    "    if v==c:\n",
    "        if (b*b+a*a)==c*c:\n",
    "            return True\n",
    "        else:\n",
    "            return False    \n",
    "r=triplet(13,5,12)\n",
    "print(r)"
   ]
  },
  {
   "cell_type": "code",
   "execution_count": null,
   "id": "8efa4e0f",
   "metadata": {},
   "outputs": [],
   "source": []
  }
 ],
 "metadata": {
  "kernelspec": {
   "display_name": "Python 3 (ipykernel)",
   "language": "python",
   "name": "python3"
  },
  "language_info": {
   "codemirror_mode": {
    "name": "ipython",
    "version": 3
   },
   "file_extension": ".py",
   "mimetype": "text/x-python",
   "name": "python",
   "nbconvert_exporter": "python",
   "pygments_lexer": "ipython3",
   "version": "3.9.12"
  }
 },
 "nbformat": 4,
 "nbformat_minor": 5
}
