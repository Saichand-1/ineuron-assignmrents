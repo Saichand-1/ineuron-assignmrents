{
 "cells": [
  {
   "cell_type": "code",
   "execution_count": 7,
   "id": "bc81e6f9",
   "metadata": {},
   "outputs": [
    {
     "name": "stdout",
     "output_type": "stream",
     "text": [
      "enter the number100\n",
      "0,35,70"
     ]
    }
   ],
   "source": [
    "\"\"\"Question 1:\n",
    "Please write a program using generator to print the numbers which can be divisible by 5 and\n",
    "7 between 0 and n in comma separated form while n is input by console.\"\"\"\n",
    "def divisible(a):\n",
    "    q=range(0,a)\n",
    "    for i in q:\n",
    "        if i%7==0 and i%5==0:\n",
    "            yield i\n",
    "s=int(input(\"enter the number\"))\n",
    "count=(s//35)\n",
    "w=0\n",
    "for i in divisible(s):\n",
    "    print(i,end=\"\")\n",
    "    if(w<count):\n",
    "        print(\",\",end=\"\")\n",
    "    w=w+1    "
   ]
  },
  {
   "cell_type": "code",
   "execution_count": 10,
   "id": "0625f18c",
   "metadata": {},
   "outputs": [
    {
     "name": "stdout",
     "output_type": "stream",
     "text": [
      "enter the number10\n",
      "0,2,4,6,8,10"
     ]
    }
   ],
   "source": [
    "\"\"\"Question 2:\n",
    "Please write a program using generator to print the even numbers between 0 and n in comma\n",
    "separated form while n is input by console.\"\"\"\n",
    "def even(a):\n",
    "    q=range(0,a+1)\n",
    "    for i in q:\n",
    "        if i%2==0:\n",
    "            yield i\n",
    "s=int(input(\"enter the number\"))\n",
    "l=[]\n",
    "for i in even(s):\n",
    "    l.append(i)\n",
    "q=len(l)-1\n",
    "for i in range(q):\n",
    "    print(l[i],end=\",\")\n",
    "print(l[q],end=\"\")    "
   ]
  },
  {
   "cell_type": "code",
   "execution_count": 59,
   "id": "6b3d8dbc",
   "metadata": {},
   "outputs": [
    {
     "name": "stdout",
     "output_type": "stream",
     "text": [
      "enter the number7\n",
      "0,1,1,2,3,5,8,13"
     ]
    }
   ],
   "source": [
    "\"\"\"Question 3:\n",
    "The Fibonacci Sequence is computed based on the following formula:\n",
    "f(n)=0 if n=0\n",
    "f(n)=1 if n=1\n",
    "f(n)=f(n-1)+f(n-2) if n>1\n",
    "Please write a program using list comprehension to print the Fibonacci Sequence in comma\n",
    "separated form with a given n input by console.\"\"\"\n",
    "def fibonacci(a):\n",
    "    if a==0:\n",
    "        return 0\n",
    "    elif a==1:\n",
    "        return 1\n",
    "    else:\n",
    "        return fibonacci(a-1)+fibonacci(a-2)\n",
    "s=int(input(\"enter the number\"))\n",
    "l=[fibonacci(i)for i in range(s+1)]\n",
    "l=[print(l[i],end=\"\")if i==s \n",
    "   else print(l[i],end=\",\")for i in range(s+1)]"
   ]
  },
  {
   "cell_type": "code",
   "execution_count": 60,
   "id": "172e5d51",
   "metadata": {},
   "outputs": [
    {
     "name": "stdout",
     "output_type": "stream",
     "text": [
      "enter emailidjohn@google.com\n",
      "john"
     ]
    }
   ],
   "source": [
    "\"\"\"Question 4:\n",
    "Assuming that we have some email addresses in the \"username@companyname.com\" format,\n",
    "please write program to print the user name of a given email address. Both user names and\n",
    "company names are composed of letters only.\"\"\"\n",
    "s=input(\"enter emailid\")\n",
    "for i in s:\n",
    "    if i=='@':\n",
    "        break\n",
    "    else:\n",
    "        print(i,end=\"\")"
   ]
  },
  {
   "cell_type": "code",
   "execution_count": 73,
   "id": "0779a738",
   "metadata": {},
   "outputs": [
    {
     "name": "stdout",
     "output_type": "stream",
     "text": [
      "16\n"
     ]
    }
   ],
   "source": [
    "\"\"\"Question 5:\n",
    "Define a class named Shape and its subclass Square. The Square class has an init function\n",
    "which takes a length as argument. Both classes have a area function which can print the area\n",
    "of the shape where Shape's area is 0 by default.\"\"\"\n",
    "class Shape:\n",
    "    def area(a=0):\n",
    "        print(a*a)\n",
    "class Square(Shape):\n",
    "    def __init__(self,a):\n",
    "        self.ab=a\n",
    "    def area(self):\n",
    "        print(self.ab*self.ab)\n",
    "a=Square(4)\n",
    "a.area()"
   ]
  },
  {
   "cell_type": "code",
   "execution_count": null,
   "id": "fcb40b6d",
   "metadata": {},
   "outputs": [],
   "source": []
  }
 ],
 "metadata": {
  "kernelspec": {
   "display_name": "Python 3 (ipykernel)",
   "language": "python",
   "name": "python3"
  },
  "language_info": {
   "codemirror_mode": {
    "name": "ipython",
    "version": 3
   },
   "file_extension": ".py",
   "mimetype": "text/x-python",
   "name": "python",
   "nbconvert_exporter": "python",
   "pygments_lexer": "ipython3",
   "version": "3.9.12"
  }
 },
 "nbformat": 4,
 "nbformat_minor": 5
}
