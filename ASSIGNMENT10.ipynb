{
 "cells": [
  {
   "cell_type": "code",
   "execution_count": 3,
   "id": "81034654",
   "metadata": {},
   "outputs": [
    {
     "name": "stdout",
     "output_type": "stream",
     "text": [
      "36\n"
     ]
    }
   ],
   "source": [
    "#1.Write a Python program to find sum of elements in list?\n",
    "a=[1,2,3,4,5,6,7,8]\n",
    "c=0\n",
    "for i in a:\n",
    "    c=c+i\n",
    "print(c)    "
   ]
  },
  {
   "cell_type": "code",
   "execution_count": 4,
   "id": "a5372037",
   "metadata": {},
   "outputs": [
    {
     "name": "stdout",
     "output_type": "stream",
     "text": [
      "40320\n"
     ]
    }
   ],
   "source": [
    "#2.Write a Python program to Multiply all numbers in the list?\n",
    "a=[1,2,3,4,5,6,7,8]\n",
    "c=1\n",
    "for i in a:\n",
    "    c=c*i\n",
    "print(c)    "
   ]
  },
  {
   "cell_type": "code",
   "execution_count": 5,
   "id": "47b865a6",
   "metadata": {},
   "outputs": [
    {
     "name": "stdout",
     "output_type": "stream",
     "text": [
      "6\n"
     ]
    }
   ],
   "source": [
    "#3.Write a Python program to find smallest number in a list?\n",
    "a=[23,11,43,22,10,56,6,7]\n",
    "c=a[0]\n",
    "for i in a:\n",
    "    if c>i:\n",
    "        c=i\n",
    "print(c)        "
   ]
  },
  {
   "cell_type": "code",
   "execution_count": 6,
   "id": "49dfec4e",
   "metadata": {},
   "outputs": [
    {
     "name": "stdout",
     "output_type": "stream",
     "text": [
      "56\n"
     ]
    }
   ],
   "source": [
    "#4.Write a Python program to find largest number in a list?\n",
    "a=[23,11,43,22,10,56,6,7]\n",
    "c=a[0]\n",
    "for i in a:\n",
    "    if c<i:\n",
    "        c=i\n",
    "print(c)    "
   ]
  },
  {
   "cell_type": "code",
   "execution_count": 7,
   "id": "af7a9b9e",
   "metadata": {},
   "outputs": [
    {
     "name": "stdout",
     "output_type": "stream",
     "text": [
      "43\n"
     ]
    }
   ],
   "source": [
    "#5.Write a Python program to find second largest number in a list?\n",
    "a=[23,11,43,22,10,56,6,7]\n",
    "a.sort()\n",
    "a.reverse()\n",
    "c=a[1]\n",
    "print(c)"
   ]
  },
  {
   "cell_type": "code",
   "execution_count": 8,
   "id": "0ff4876a",
   "metadata": {},
   "outputs": [
    {
     "name": "stdout",
     "output_type": "stream",
     "text": [
      "enter the N3\n",
      "56\n",
      "43\n",
      "23\n"
     ]
    }
   ],
   "source": [
    "#6.Write a Python program to find N largest elements from a list?\n",
    "a=[23,11,43,22,10,56,6,7]\n",
    "k=int(input(\"enter the N\"))\n",
    "a.sort()\n",
    "a.reverse()\n",
    "for i in range(k):\n",
    "    print(a[i])"
   ]
  },
  {
   "cell_type": "code",
   "execution_count": 9,
   "id": "46c5e390",
   "metadata": {},
   "outputs": [
    {
     "name": "stdout",
     "output_type": "stream",
     "text": [
      "EVEN NUMBERS IN THE ABOVE LIST\n",
      "22 10 56 6 "
     ]
    }
   ],
   "source": [
    "#7.Write a Python program to print even numbers in a list?\n",
    "a=[23,11,43,22,10,56,6,7]\n",
    "print(\"EVEN NUMBERS IN THE ABOVE LIST\")\n",
    "for i in a:\n",
    "    if i%2==0:\n",
    "        print(i,end=\" \")"
   ]
  },
  {
   "cell_type": "code",
   "execution_count": 10,
   "id": "69c47249",
   "metadata": {},
   "outputs": [
    {
     "name": "stdout",
     "output_type": "stream",
     "text": [
      "ODD NUMBERS IN THE ABOVE LIST\n",
      "23 11 43 7 "
     ]
    }
   ],
   "source": [
    "#8.Write a Python program to print odd numbers in a List?\n",
    "a=[23,11,43,22,10,56,6,7]\n",
    "print(\"ODD NUMBERS IN THE ABOVE LIST\")\n",
    "for i in a:\n",
    "    if i%2==1:\n",
    "        print(i,end=\" \")"
   ]
  },
  {
   "cell_type": "code",
   "execution_count": 18,
   "id": "eeddd892",
   "metadata": {},
   "outputs": [
    {
     "name": "stdout",
     "output_type": "stream",
     "text": [
      "[1, 2, 34, 44, [1, 23, 3]]\n"
     ]
    }
   ],
   "source": [
    "#9.Write a Python program to Remove empty List from List?\n",
    "try:\n",
    "    a=[[],1,2,34,44,[1,23,3]]\n",
    "    if type(a)==list:\n",
    "        b=[]\n",
    "        for i in a:\n",
    "            count=0\n",
    "            if type(i)==list:\n",
    "                for j in i:\n",
    "                    count=count+1\n",
    "                if(count!=0):\n",
    "                    b.append(i)\n",
    "            else:\n",
    "                b.append(i)\n",
    "        a=b\n",
    "        print(a)\n",
    "    else:\n",
    "        raise()\n",
    "except:\n",
    "    print(\"invalid input \")"
   ]
  },
  {
   "cell_type": "code",
   "execution_count": 17,
   "id": "5a57927b",
   "metadata": {},
   "outputs": [
    {
     "name": "stdout",
     "output_type": "stream",
     "text": [
      "[[], 1, 2, 34, 44, [1, 23, 3]]\n"
     ]
    }
   ],
   "source": [
    "#10.Write a Python program to Cloning or Copying a list?\n",
    "a=[[],1,2,34,44,[1,23,3]]\n",
    "try:\n",
    "    if type(a)==list:\n",
    "        b=a\n",
    "        print(b)\n",
    "    else:\n",
    "        raise()\n",
    "except:\n",
    "    print(\"given input is not a list\")"
   ]
  },
  {
   "cell_type": "code",
   "execution_count": 26,
   "id": "3fb8d522",
   "metadata": {},
   "outputs": [
    {
     "name": "stdout",
     "output_type": "stream",
     "text": [
      "enter the element1\n",
      "3\n"
     ]
    }
   ],
   "source": [
    "#11.Write a Python program to Count occurrences of an element in a list?\n",
    "a=[1,1,1,2,2,2,2,3,4,3,3,5,5,6,6,7,7,7]\n",
    "c=int(input(\"enter the element\"))\n",
    "d=a.count(c)\n",
    "print(d)"
   ]
  },
  {
   "cell_type": "code",
   "execution_count": null,
   "id": "51febe6f",
   "metadata": {},
   "outputs": [],
   "source": []
  }
 ],
 "metadata": {
  "kernelspec": {
   "display_name": "Python 3 (ipykernel)",
   "language": "python",
   "name": "python3"
  },
  "language_info": {
   "codemirror_mode": {
    "name": "ipython",
    "version": 3
   },
   "file_extension": ".py",
   "mimetype": "text/x-python",
   "name": "python",
   "nbconvert_exporter": "python",
   "pygments_lexer": "ipython3",
   "version": "3.9.12"
  }
 },
 "nbformat": 4,
 "nbformat_minor": 5
}
