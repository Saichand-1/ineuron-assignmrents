{
 "cells": [
  {
   "cell_type": "code",
   "execution_count": 6,
   "id": "8cae509c",
   "metadata": {},
   "outputs": [
    {
     "name": "stdout",
     "output_type": "stream",
     "text": [
      "Enter the number a1\n",
      "Enter the number b10\n",
      "Enter the number c3\n",
      "18\n"
     ]
    }
   ],
   "source": [
    "\"\"\"Question1. Create a function that takes three arguments a, b, c and returns the sum of the\n",
    "numbers that are evenly divided by c from the range a, b inclusive.\"\"\"\n",
    "def divisible(a,b,c):\n",
    "    d=range(a,b+1)\n",
    "    z=0\n",
    "    for i in d:\n",
    "        if i%c==0:\n",
    "            z=z+i\n",
    "    return z\n",
    "q=int(input(\"Enter the number a\"))\n",
    "w=int(input(\"Enter the number b\"))\n",
    "e=int(input(\"Enter the number c\"))\n",
    "f=divisible(q,w,e)\n",
    "print(f)"
   ]
  },
  {
   "cell_type": "code",
   "execution_count": 17,
   "id": "458e3405",
   "metadata": {},
   "outputs": [
    {
     "name": "stdout",
     "output_type": "stream",
     "text": [
      "enter the string13>44>33>1\n",
      "False\n"
     ]
    }
   ],
   "source": [
    "\"\"\"Question2. Create a function that returns True if a given inequality expression is correct and\n",
    "False otherwise.\"\"\"\n",
    "def evaluate(a):\n",
    "    w=eval(a)\n",
    "    return w\n",
    "w=input(\"enter the string\")\n",
    "r=evaluate(w) \n",
    "print(r)\n",
    "                \n",
    "                \n",
    "        "
   ]
  },
  {
   "cell_type": "code",
   "execution_count": 22,
   "id": "7d532d62",
   "metadata": {},
   "outputs": [
    {
     "name": "stdout",
     "output_type": "stream",
     "text": [
      "enter the stringshakespeare\n",
      "enter the character@\n",
      "sh@k@sp@@r@\n"
     ]
    }
   ],
   "source": [
    "\"\"\"Question3. Create a function that replaces all the vowels in a string with a specified character.\"\"\"\n",
    "def replace_(z,q):\n",
    "    z=z.replace('a',q)\n",
    "    z=z.replace('e',q)\n",
    "    z=z.replace('i',q)\n",
    "    z=z.replace('o',q)\n",
    "    z=z.replace('u',q)\n",
    "    return z\n",
    "q=input(\"enter the string\")\n",
    "r=input(\"enter the character\")\n",
    "w=replace_(q,r)\n",
    "print(w)"
   ]
  },
  {
   "cell_type": "code",
   "execution_count": 23,
   "id": "4d99ad9f",
   "metadata": {},
   "outputs": [
    {
     "name": "stdout",
     "output_type": "stream",
     "text": [
      "enter the number5\n",
      "120\n"
     ]
    }
   ],
   "source": [
    "\"\"\"Question4. Write a function that calculates the factorial of a number recursively.\"\"\"\n",
    "def factorial(a):\n",
    "    if a==1:\n",
    "        return 1\n",
    "    else:\n",
    "        return a*factorial(a-1)\n",
    "q=int(input(\"enter the number\"))\n",
    "w=factorial(q)\n",
    "print(w)"
   ]
  },
  {
   "cell_type": "code",
   "execution_count": 27,
   "id": "4b1c7bc6",
   "metadata": {},
   "outputs": [
    {
     "name": "stdout",
     "output_type": "stream",
     "text": [
      "enter the stringabcde\n",
      "enter the stringbcdef\n",
      "5\n"
     ]
    }
   ],
   "source": [
    "\"\"\"Question 5\n",
    "Hamming distance is the number of characters that differ between two strings.\"\"\"\n",
    "def difference(a,b):\n",
    "    count=0\n",
    "    for i in range(len(a)): \n",
    "        for j in range(len(b)):\n",
    "            if i==j:\n",
    "                if a[i]!=b[j]:\n",
    "                    count=count+1\n",
    "    return count\n",
    "z=input(\"enter the string\")\n",
    "q=input(\"enter the string\")\n",
    "r=difference(z,q)\n",
    "print(r)"
   ]
  },
  {
   "cell_type": "code",
   "execution_count": null,
   "id": "0750f7c8",
   "metadata": {},
   "outputs": [],
   "source": []
  }
 ],
 "metadata": {
  "kernelspec": {
   "display_name": "Python 3 (ipykernel)",
   "language": "python",
   "name": "python3"
  },
  "language_info": {
   "codemirror_mode": {
    "name": "ipython",
    "version": 3
   },
   "file_extension": ".py",
   "mimetype": "text/x-python",
   "name": "python",
   "nbconvert_exporter": "python",
   "pygments_lexer": "ipython3",
   "version": "3.9.12"
  }
 },
 "nbformat": 4,
 "nbformat_minor": 5
}
