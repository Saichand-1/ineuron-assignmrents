{
 "cells": [
  {
   "cell_type": "code",
   "execution_count": 29,
   "id": "7abba101",
   "metadata": {},
   "outputs": [
    {
     "name": "stdout",
     "output_type": "stream",
     "text": [
      "Enter the number89\n",
      "true\n"
     ]
    }
   ],
   "source": [
    "#1Write a Python program to check if the given number is a Disarium Number?\n",
    "x=int(input(\"Enter the number\"))\n",
    "r=0\n",
    "sum=0\n",
    "z=x\n",
    "d=0\n",
    "while z!=0:\n",
    "    r=r+1\n",
    "    z=z//10\n",
    "z=x\n",
    "while z!=0:\n",
    "    d=z%10\n",
    "    sum=sum+d**r\n",
    "    r=r-1\n",
    "    z=z//10    \n",
    "if sum==x:\n",
    "    print(\"true\")\n",
    "else:\n",
    "    print(\"false\")"
   ]
  },
  {
   "cell_type": "code",
   "execution_count": 37,
   "id": "61b1067e",
   "metadata": {},
   "outputs": [
    {
     "name": "stdout",
     "output_type": "stream",
     "text": [
      "0\n",
      "1\n",
      "2\n",
      "3\n",
      "4\n",
      "5\n",
      "6\n",
      "7\n",
      "8\n",
      "9\n",
      "89\n"
     ]
    }
   ],
   "source": [
    "#2Write a Python program to print all disarium numbers between 1 to 100?\n",
    "for i in range(100):\n",
    "    x=i\n",
    "    r=0\n",
    "    sum=0\n",
    "    z=x\n",
    "    d=0\n",
    "    while z!=0:\n",
    "        r=r+1\n",
    "        z=z//10\n",
    "    z=x\n",
    "    while z!=0:\n",
    "        d=z%10\n",
    "        sum=sum+d**r\n",
    "        r=r-1\n",
    "        z=z//10    \n",
    "    if sum==x:\n",
    "        print(sum)"
   ]
  },
  {
   "cell_type": "code",
   "execution_count": 51,
   "id": "1f655d90",
   "metadata": {},
   "outputs": [
    {
     "name": "stdout",
     "output_type": "stream",
     "text": [
      "enter the number6\n",
      "false\n"
     ]
    }
   ],
   "source": [
    "#3Write a Python program to check if the given number is Happy Number?\n",
    "x=int(input(\"enter the number\"))\n",
    "sum=0\n",
    "z=x\n",
    "sum=0\n",
    "list1=[-1]\n",
    "t=1\n",
    "while z!=0:\n",
    "    r=z%10\n",
    "    sum=sum+r*r\n",
    "    z=z//10\n",
    "if sum==1:\n",
    "    print(\"true\")    \n",
    "while 1:\n",
    "    if sum==1:\n",
    "        print(\"true\")\n",
    "        break\n",
    "    for i in list1:\n",
    "        if sum==i:\n",
    "            print(\"false\")\n",
    "            t=0    \n",
    "            break\n",
    "    list1.append(sum)          \n",
    "    if(t==0):\n",
    "        break\n",
    "    z=sum\n",
    "    sum=0\n",
    "    while(z!=0):\n",
    "        r=z%10\n",
    "        sum=sum+r*r\n",
    "        z=z//10    "
   ]
  },
  {
   "cell_type": "code",
   "execution_count": 53,
   "id": "2963357b",
   "metadata": {},
   "outputs": [
    {
     "name": "stdout",
     "output_type": "stream",
     "text": [
      "1\n",
      "7\n",
      "10\n",
      "13\n",
      "19\n",
      "23\n",
      "28\n",
      "31\n",
      "32\n",
      "44\n",
      "49\n",
      "68\n",
      "70\n",
      "79\n",
      "82\n",
      "86\n",
      "91\n",
      "94\n",
      "97\n"
     ]
    }
   ],
   "source": [
    "#4Write a Python program to print all happy numbers between 1 and 100?\n",
    "for i in range(100):\n",
    "    x=i\n",
    "    sum=0\n",
    "    z=x\n",
    "    sum=0\n",
    "    list1=[-1]\n",
    "    t=1\n",
    "    while z!=0:\n",
    "        r=z%10\n",
    "        sum=sum+r*r\n",
    "        z=z//10\n",
    "    while 1:\n",
    "        if sum==1:\n",
    "            print(x)\n",
    "            break\n",
    "        for i in list1:\n",
    "            if sum==i:\n",
    "                t=0    \n",
    "                break\n",
    "        list1.append(sum)          \n",
    "        if(t==0):\n",
    "            break\n",
    "        z=sum\n",
    "        sum=0\n",
    "        while(z!=0):\n",
    "            r=z%10\n",
    "            sum=sum+r*r\n",
    "            z=z//10    \n",
    "    "
   ]
  },
  {
   "cell_type": "code",
   "execution_count": 60,
   "id": "2db84128",
   "metadata": {},
   "outputs": [
    {
     "name": "stdout",
     "output_type": "stream",
     "text": [
      "enter the number18\n",
      "true\n"
     ]
    }
   ],
   "source": [
    "#5Write a Python program to determine whether the given number is a Harshad Number?\n",
    "x=int(input(\"enter the number\"))\n",
    "sum=0\n",
    "z=x\n",
    "while(z!=0):\n",
    "    r=z%10\n",
    "    sum=sum+r\n",
    "    z=z//10\n",
    "if x%sum==0:\n",
    "    print(\"true\")\n",
    "else:\n",
    "    print(\"false\")\n",
    "\n"
   ]
  },
  {
   "cell_type": "code",
   "execution_count": 64,
   "id": "a489b96a",
   "metadata": {},
   "outputs": [
    {
     "name": "stdout",
     "output_type": "stream",
     "text": [
      "0\n",
      "2\n",
      "6\n",
      "12\n",
      "20\n",
      "30\n",
      "42\n",
      "56\n",
      "72\n",
      "90\n"
     ]
    }
   ],
   "source": [
    "#6Write a Python program to print all pronic numbers between 1 and 100?\n",
    "n=1\n",
    "while 1:\n",
    "    x=n*(n-1)\n",
    "    if x>=100:\n",
    "        break\n",
    "    print(x)\n",
    "    n=n+1"
   ]
  },
  {
   "cell_type": "code",
   "execution_count": null,
   "id": "a8263e20",
   "metadata": {},
   "outputs": [],
   "source": []
  }
 ],
 "metadata": {
  "kernelspec": {
   "display_name": "Python 3 (ipykernel)",
   "language": "python",
   "name": "python3"
  },
  "language_info": {
   "codemirror_mode": {
    "name": "ipython",
    "version": 3
   },
   "file_extension": ".py",
   "mimetype": "text/x-python",
   "name": "python",
   "nbconvert_exporter": "python",
   "pygments_lexer": "ipython3",
   "version": "3.9.12"
  }
 },
 "nbformat": 4,
 "nbformat_minor": 5
}
