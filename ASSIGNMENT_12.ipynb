{
 "cells": [
  {
   "cell_type": "code",
   "execution_count": 19,
   "id": "482ea361",
   "metadata": {},
   "outputs": [
    {
     "name": "stdout",
     "output_type": "stream",
     "text": [
      "[1, 2, 3, 4, 5, 7, 8, 9, 10]\n"
     ]
    }
   ],
   "source": [
    "#1.Write a Python program to Extract Unique values dictionary values?\n",
    "list1=[]\n",
    "dict1={\"rajesh\":[1,2,3,3,4],\"komuravelli\":[4,4,5,5,5,7],\"hi\":[8,8,9,9,10]}\n",
    "for i in dict1:\n",
    "    for j in range(len(dict1[i])):\n",
    "        list1.append(dict1[i][j])\n",
    "lit1=list1.sort()\n",
    "list2=[]\n",
    "for i in range(len(list1)):\n",
    "    if list1[i]!=list1[i-1] and i>=1:\n",
    "        list2.append(list1[i-1])   \n",
    "    if i==len(list1)-1 and list1[i]!=list1[i-1]: \n",
    "        list2.append(list1[i])\n",
    "print(list2)    "
   ]
  },
  {
   "cell_type": "code",
   "execution_count": 20,
   "id": "714c2feb",
   "metadata": {},
   "outputs": [
    {
     "name": "stdout",
     "output_type": "stream",
     "text": [
      "10978\n"
     ]
    }
   ],
   "source": [
    "#2.Write a Python program to find the sum of all items in a dictionary?\n",
    "dict1={\"a\":345,\"b\":789,\"c\":9844}\n",
    "sum_=0\n",
    "for i in dict1:\n",
    "    sum_=sum_+dict1[i]\n",
    "print(sum_)    "
   ]
  },
  {
   "cell_type": "code",
   "execution_count": 23,
   "id": "ec0096dd",
   "metadata": {},
   "outputs": [
    {
     "name": "stdout",
     "output_type": "stream",
     "text": [
      "{'a': 1234, 'b': 3637, 'r': 86393, 'g': 7998}\n"
     ]
    }
   ],
   "source": [
    "#3.Write a Python program to Merging two Dictionaries?\n",
    "dict1={\"a\":1234,\"b\":3637}\n",
    "dict2={\"r\":86393,\"g\":7998}\n",
    "for i in dict2:\n",
    "    dict1[i]=dict2[i]\n",
    "print(dict1)    "
   ]
  },
  {
   "cell_type": "code",
   "execution_count": 24,
   "id": "8c6d0a74",
   "metadata": {},
   "outputs": [
    {
     "name": "stdout",
     "output_type": "stream",
     "text": [
      "{1: 23, 2: 24, 3: 25, 4: 26, 5: 27}\n"
     ]
    }
   ],
   "source": [
    "#4.Write a Python program to convert key-values list to flat dictionary?\n",
    "dict1={\"a\":[1,2,3,4,5],\"b\":[23,24,25,26,27]}\n",
    "list1=dict1['a']\n",
    "list2=dict1['b']\n",
    "dict3={}\n",
    "for i in range(len(list1)):\n",
    "     dict3[list1[i]]=list2[i]\n",
    "print(dict3)        "
   ]
  },
  {
   "cell_type": "code",
   "execution_count": 25,
   "id": "48286182",
   "metadata": {},
   "outputs": [
    {
     "name": "stdout",
     "output_type": "stream",
     "text": [
      "{'are': 678, 'redd': 77986, 'car': 78}\n"
     ]
    }
   ],
   "source": [
    "#5.Write a Python program to insertion at the beginning in OrderedDict?\n",
    "dict1={\"car\":78}\n",
    "dict2={\"are\":678,\"redd\":77986}\n",
    "dict3={}\n",
    "for i in dict2:\n",
    "    dict3[i]=dict2[i]\n",
    "for i in dict1:\n",
    "    dict3[i]=dict1[i]\n",
    "dict1=dict3\n",
    "print(dict1)"
   ]
  },
  {
   "cell_type": "code",
   "execution_count": 34,
   "id": "8dfb867b",
   "metadata": {},
   "outputs": [
    {
     "name": "stdout",
     "output_type": "stream",
     "text": [
      "False\n"
     ]
    }
   ],
   "source": [
    "#6.Write a Python program to check order of character in string using OrderedDict()?\n",
    "dict1={}\n",
    "str1=\"engineers rock\"\n",
    "str2=\"gsr\"\n",
    "c=1\n",
    "for i in str1:\n",
    "    dict1[i]=[]\n",
    "for i in str1:\n",
    "    dict1[i].append(c)\n",
    "    c=c+1\n",
    "d=1    \n",
    "for i in range(len(str2)):\n",
    "    if i+1<len(str2):\n",
    "        a=len(dict1[str2[i]])-1\n",
    "        c=dict1[str2[i]][a]\n",
    "        f=dict1[str2[i+1]][0]\n",
    "        if c>f:\n",
    "            d=0    \n",
    "if d==1:\n",
    "     print(\"True\")\n",
    "if d==0:\n",
    "     print(\"False\")           \n",
    "                \n",
    "        "
   ]
  },
  {
   "cell_type": "code",
   "execution_count": 48,
   "id": "ab369fbc",
   "metadata": {},
   "outputs": [
    {
     "name": "stdout",
     "output_type": "stream",
     "text": [
      "{'rajesh': 30, 'komuravelli': 983, 'hi': 333, 'hello': 894}\n",
      "{'hello': 894, 'hi': 333, 'komuravelli': 983, 'rajesh': 30}\n"
     ]
    }
   ],
   "source": [
    "#7.Write a Python program to sort Python Dictionaries by Key or Value?\n",
    "dict1={\"rajesh\":30,\"komuravelli\":983,\"hi\":333,\"hello\":894}\n",
    "print(dict1)\n",
    "l=[]\n",
    "for i in dict1:\n",
    "    l.append(i)\n",
    "l.sort()\n",
    "dict2={}\n",
    "for i in l:\n",
    "    dict2[i]=dict1[i]\n",
    "dict1=dict2\n",
    "print(dict1)"
   ]
  },
  {
   "cell_type": "code",
   "execution_count": null,
   "id": "77bc3203",
   "metadata": {},
   "outputs": [],
   "source": []
  },
  {
   "cell_type": "code",
   "execution_count": null,
   "id": "9a282234",
   "metadata": {},
   "outputs": [],
   "source": []
  },
  {
   "cell_type": "code",
   "execution_count": null,
   "id": "0a2a351d",
   "metadata": {},
   "outputs": [],
   "source": []
  }
 ],
 "metadata": {
  "kernelspec": {
   "display_name": "Python 3 (ipykernel)",
   "language": "python",
   "name": "python3"
  },
  "language_info": {
   "codemirror_mode": {
    "name": "ipython",
    "version": 3
   },
   "file_extension": ".py",
   "mimetype": "text/x-python",
   "name": "python",
   "nbconvert_exporter": "python",
   "pygments_lexer": "ipython3",
   "version": "3.9.12"
  }
 },
 "nbformat": 4,
 "nbformat_minor": 5
}
