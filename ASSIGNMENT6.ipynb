{
 "cells": [
  {
   "cell_type": "code",
   "execution_count": 30,
   "id": "9e428be5",
   "metadata": {},
   "outputs": [
    {
     "name": "stdout",
     "output_type": "stream",
     "text": [
      "enter the length of the series u want see7\n",
      "0\n",
      "1\n",
      "1\n",
      "2\n",
      "3\n",
      "5\n",
      "8\n",
      "13\n"
     ]
    }
   ],
   "source": [
    "#1. Write a Python Program to Display Fibonacci Sequence Using Recursion?\n",
    "def fibonacci(n):\n",
    "    try:\n",
    "        if n<0:\n",
    "            return 0\n",
    "        elif n==1:\n",
    "            return 1\n",
    "        else:\n",
    "            return fibonacci(n-1)+fibonacci(n-2)        \n",
    "    except:\n",
    "        print(\"given input is invalid\")\n",
    "a=int(input(\"enter the length of the series u want see\"))\n",
    "for i in range(a+1):\n",
    "        print(fibonacci(i))\n",
    "    "
   ]
  },
  {
   "cell_type": "code",
   "execution_count": 22,
   "id": "80e1f265",
   "metadata": {},
   "outputs": [
    {
     "name": "stdout",
     "output_type": "stream",
     "text": [
      "Enter the number5\n",
      "120\n"
     ]
    }
   ],
   "source": [
    "#2.Write a Python Program to Find Factorial of Number Using Recursion?\n",
    "def factorial(n):\n",
    "    try:\n",
    "        if(n<1):\n",
    "            raise(Exception)\n",
    "        if(n==1):\n",
    "            return 1\n",
    "        else:\n",
    "            return n*factorial(n-1)\n",
    "    except Exception as f:\n",
    "         print(\"given input is invalid\")\n",
    "        \n",
    "a=factorial(int(input(\"Enter the number\")))\n",
    "print(a)"
   ]
  },
  {
   "cell_type": "code",
   "execution_count": 27,
   "id": "fe55213a",
   "metadata": {},
   "outputs": [
    {
     "name": "stdout",
     "output_type": "stream",
     "text": [
      "enter the weight in KG45\n",
      "enter the height in meters0\n",
      "invalid b value\n",
      "None\n"
     ]
    }
   ],
   "source": [
    "#3. Write a Python Program to calculate your Body Mass Index?\n",
    "def BMI(a,b):\n",
    "    try:  \n",
    "        b=b*b\n",
    "        return a/b\n",
    "    except:\n",
    "        print(\"invalid b value\")\n",
    "a=float(input(\"enter the weight in KG\"))\n",
    "b=float(input(\"enter the height in meters\"))\n",
    "c=BMI(a,b)\n",
    "print(c)"
   ]
  },
  {
   "cell_type": "code",
   "execution_count": 35,
   "id": "4e46bc13",
   "metadata": {},
   "outputs": [
    {
     "name": "stdout",
     "output_type": "stream",
     "text": [
      "enter the number-1\n",
      "given input is invalid\n",
      "None\n"
     ]
    }
   ],
   "source": [
    "#4.Write a Python Program to calculate the natural logarithm of any number?\n",
    "import math\n",
    "def logvalue(a):\n",
    "    try:\n",
    "        return math.log(a)\n",
    "    except:\n",
    "        print(\"given input is invalid\")\n",
    "\n",
    "a=logvalue(int(input(\"enter the number\")))\n",
    "print(a)"
   ]
  },
  {
   "cell_type": "code",
   "execution_count": 46,
   "id": "d63d42e9",
   "metadata": {},
   "outputs": [
    {
     "name": "stdout",
     "output_type": "stream",
     "text": [
      "enter the number4\n",
      "100\n"
     ]
    }
   ],
   "source": [
    "#5.Write a Python Program for cube sum of first n natural numbers?\n",
    "def cubesum(n):\n",
    "    try:\n",
    "        if(n<1):\n",
    "            raise()\n",
    "        sum=0\n",
    "        for i in range(n+1):\n",
    "            r=i**3\n",
    "            sum=sum+r\n",
    "        return sum    \n",
    "    except:\n",
    "        print(\"entered number is not a natural number\")\n",
    "a=cubesum(int(input(\"enter the number\")))   \n",
    "print(a)"
   ]
  },
  {
   "cell_type": "code",
   "execution_count": null,
   "id": "7184e7d2",
   "metadata": {},
   "outputs": [],
   "source": []
  },
  {
   "cell_type": "code",
   "execution_count": null,
   "id": "574b8e84",
   "metadata": {},
   "outputs": [],
   "source": []
  }
 ],
 "metadata": {
  "kernelspec": {
   "display_name": "Python 3 (ipykernel)",
   "language": "python",
   "name": "python3"
  },
  "language_info": {
   "codemirror_mode": {
    "name": "ipython",
    "version": 3
   },
   "file_extension": ".py",
   "mimetype": "text/x-python",
   "name": "python",
   "nbconvert_exporter": "python",
   "pygments_lexer": "ipython3",
   "version": "3.9.12"
  }
 },
 "nbformat": 4,
 "nbformat_minor": 5
}
